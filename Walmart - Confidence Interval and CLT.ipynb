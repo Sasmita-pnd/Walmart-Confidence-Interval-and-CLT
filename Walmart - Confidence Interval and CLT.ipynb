{
 "cells": [
  {
   "cell_type": "markdown",
   "metadata": {},
   "source": [
    "### Problem Statement"
   ]
  },
  {
   "cell_type": "markdown",
   "metadata": {},
   "source": [
    "The Management team at Walmart Inc. wants to analyze the customer purchase behavior (specifically, purchase amount) against the customer’s gender and the various other factors to help the business make better decisions. They want to understand if the spending habits differ between male and female customers"
   ]
  },
  {
   "cell_type": "code",
   "execution_count": 37,
   "metadata": {},
   "outputs": [],
   "source": [
    "import numpy as np\n",
    "import pandas as pd\n",
    "import seaborn as sns\n",
    "import matplotlib.pyplot as plt\n",
    "from scipy.stats import norm"
   ]
  },
  {
   "cell_type": "markdown",
   "metadata": {},
   "source": [
    "#### Analysing Basic Metrices"
   ]
  },
  {
   "cell_type": "code",
   "execution_count": 2,
   "metadata": {},
   "outputs": [],
   "source": [
    "df=pd.read_csv('D:\\SQL\\Data Analytics\\Walmart - Confidence Interval and CLT.csv')\n"
   ]
  },
  {
   "cell_type": "code",
   "execution_count": 3,
   "metadata": {},
   "outputs": [
    {
     "data": {
      "text/html": [
       "<div>\n",
       "<style scoped>\n",
       "    .dataframe tbody tr th:only-of-type {\n",
       "        vertical-align: middle;\n",
       "    }\n",
       "\n",
       "    .dataframe tbody tr th {\n",
       "        vertical-align: top;\n",
       "    }\n",
       "\n",
       "    .dataframe thead th {\n",
       "        text-align: right;\n",
       "    }\n",
       "</style>\n",
       "<table border=\"1\" class=\"dataframe\">\n",
       "  <thead>\n",
       "    <tr style=\"text-align: right;\">\n",
       "      <th></th>\n",
       "      <th>User_ID</th>\n",
       "      <th>Product_ID</th>\n",
       "      <th>Gender</th>\n",
       "      <th>Age</th>\n",
       "      <th>Occupation</th>\n",
       "      <th>City_Category</th>\n",
       "      <th>Stay_In_Current_City_Years</th>\n",
       "      <th>Marital_Status</th>\n",
       "      <th>Product_Category</th>\n",
       "      <th>Purchase</th>\n",
       "    </tr>\n",
       "  </thead>\n",
       "  <tbody>\n",
       "    <tr>\n",
       "      <th>0</th>\n",
       "      <td>1000001</td>\n",
       "      <td>P00069042</td>\n",
       "      <td>F</td>\n",
       "      <td>0-17</td>\n",
       "      <td>10</td>\n",
       "      <td>A</td>\n",
       "      <td>2</td>\n",
       "      <td>0</td>\n",
       "      <td>3</td>\n",
       "      <td>8370</td>\n",
       "    </tr>\n",
       "    <tr>\n",
       "      <th>1</th>\n",
       "      <td>1000001</td>\n",
       "      <td>P00248942</td>\n",
       "      <td>F</td>\n",
       "      <td>0-17</td>\n",
       "      <td>10</td>\n",
       "      <td>A</td>\n",
       "      <td>2</td>\n",
       "      <td>0</td>\n",
       "      <td>1</td>\n",
       "      <td>15200</td>\n",
       "    </tr>\n",
       "    <tr>\n",
       "      <th>2</th>\n",
       "      <td>1000001</td>\n",
       "      <td>P00087842</td>\n",
       "      <td>F</td>\n",
       "      <td>0-17</td>\n",
       "      <td>10</td>\n",
       "      <td>A</td>\n",
       "      <td>2</td>\n",
       "      <td>0</td>\n",
       "      <td>12</td>\n",
       "      <td>1422</td>\n",
       "    </tr>\n",
       "    <tr>\n",
       "      <th>3</th>\n",
       "      <td>1000001</td>\n",
       "      <td>P00085442</td>\n",
       "      <td>F</td>\n",
       "      <td>0-17</td>\n",
       "      <td>10</td>\n",
       "      <td>A</td>\n",
       "      <td>2</td>\n",
       "      <td>0</td>\n",
       "      <td>12</td>\n",
       "      <td>1057</td>\n",
       "    </tr>\n",
       "    <tr>\n",
       "      <th>4</th>\n",
       "      <td>1000002</td>\n",
       "      <td>P00285442</td>\n",
       "      <td>M</td>\n",
       "      <td>55+</td>\n",
       "      <td>16</td>\n",
       "      <td>C</td>\n",
       "      <td>4+</td>\n",
       "      <td>0</td>\n",
       "      <td>8</td>\n",
       "      <td>7969</td>\n",
       "    </tr>\n",
       "    <tr>\n",
       "      <th>...</th>\n",
       "      <td>...</td>\n",
       "      <td>...</td>\n",
       "      <td>...</td>\n",
       "      <td>...</td>\n",
       "      <td>...</td>\n",
       "      <td>...</td>\n",
       "      <td>...</td>\n",
       "      <td>...</td>\n",
       "      <td>...</td>\n",
       "      <td>...</td>\n",
       "    </tr>\n",
       "    <tr>\n",
       "      <th>550063</th>\n",
       "      <td>1006033</td>\n",
       "      <td>P00372445</td>\n",
       "      <td>M</td>\n",
       "      <td>51-55</td>\n",
       "      <td>13</td>\n",
       "      <td>B</td>\n",
       "      <td>1</td>\n",
       "      <td>1</td>\n",
       "      <td>20</td>\n",
       "      <td>368</td>\n",
       "    </tr>\n",
       "    <tr>\n",
       "      <th>550064</th>\n",
       "      <td>1006035</td>\n",
       "      <td>P00375436</td>\n",
       "      <td>F</td>\n",
       "      <td>26-35</td>\n",
       "      <td>1</td>\n",
       "      <td>C</td>\n",
       "      <td>3</td>\n",
       "      <td>0</td>\n",
       "      <td>20</td>\n",
       "      <td>371</td>\n",
       "    </tr>\n",
       "    <tr>\n",
       "      <th>550065</th>\n",
       "      <td>1006036</td>\n",
       "      <td>P00375436</td>\n",
       "      <td>F</td>\n",
       "      <td>26-35</td>\n",
       "      <td>15</td>\n",
       "      <td>B</td>\n",
       "      <td>4+</td>\n",
       "      <td>1</td>\n",
       "      <td>20</td>\n",
       "      <td>137</td>\n",
       "    </tr>\n",
       "    <tr>\n",
       "      <th>550066</th>\n",
       "      <td>1006038</td>\n",
       "      <td>P00375436</td>\n",
       "      <td>F</td>\n",
       "      <td>55+</td>\n",
       "      <td>1</td>\n",
       "      <td>C</td>\n",
       "      <td>2</td>\n",
       "      <td>0</td>\n",
       "      <td>20</td>\n",
       "      <td>365</td>\n",
       "    </tr>\n",
       "    <tr>\n",
       "      <th>550067</th>\n",
       "      <td>1006039</td>\n",
       "      <td>P00371644</td>\n",
       "      <td>F</td>\n",
       "      <td>46-50</td>\n",
       "      <td>0</td>\n",
       "      <td>B</td>\n",
       "      <td>4+</td>\n",
       "      <td>1</td>\n",
       "      <td>20</td>\n",
       "      <td>490</td>\n",
       "    </tr>\n",
       "  </tbody>\n",
       "</table>\n",
       "<p>550068 rows × 10 columns</p>\n",
       "</div>"
      ],
      "text/plain": [
       "        User_ID Product_ID Gender    Age  Occupation City_Category  \\\n",
       "0       1000001  P00069042      F   0-17          10             A   \n",
       "1       1000001  P00248942      F   0-17          10             A   \n",
       "2       1000001  P00087842      F   0-17          10             A   \n",
       "3       1000001  P00085442      F   0-17          10             A   \n",
       "4       1000002  P00285442      M    55+          16             C   \n",
       "...         ...        ...    ...    ...         ...           ...   \n",
       "550063  1006033  P00372445      M  51-55          13             B   \n",
       "550064  1006035  P00375436      F  26-35           1             C   \n",
       "550065  1006036  P00375436      F  26-35          15             B   \n",
       "550066  1006038  P00375436      F    55+           1             C   \n",
       "550067  1006039  P00371644      F  46-50           0             B   \n",
       "\n",
       "       Stay_In_Current_City_Years  Marital_Status  Product_Category  Purchase  \n",
       "0                               2               0                 3      8370  \n",
       "1                               2               0                 1     15200  \n",
       "2                               2               0                12      1422  \n",
       "3                               2               0                12      1057  \n",
       "4                              4+               0                 8      7969  \n",
       "...                           ...             ...               ...       ...  \n",
       "550063                          1               1                20       368  \n",
       "550064                          3               0                20       371  \n",
       "550065                         4+               1                20       137  \n",
       "550066                          2               0                20       365  \n",
       "550067                         4+               1                20       490  \n",
       "\n",
       "[550068 rows x 10 columns]"
      ]
     },
     "execution_count": 3,
     "metadata": {},
     "output_type": "execute_result"
    }
   ],
   "source": [
    "df"
   ]
  },
  {
   "cell_type": "code",
   "execution_count": 4,
   "metadata": {},
   "outputs": [
    {
     "data": {
      "text/html": [
       "<div>\n",
       "<style scoped>\n",
       "    .dataframe tbody tr th:only-of-type {\n",
       "        vertical-align: middle;\n",
       "    }\n",
       "\n",
       "    .dataframe tbody tr th {\n",
       "        vertical-align: top;\n",
       "    }\n",
       "\n",
       "    .dataframe thead th {\n",
       "        text-align: right;\n",
       "    }\n",
       "</style>\n",
       "<table border=\"1\" class=\"dataframe\">\n",
       "  <thead>\n",
       "    <tr style=\"text-align: right;\">\n",
       "      <th></th>\n",
       "      <th>User_ID</th>\n",
       "      <th>Product_ID</th>\n",
       "      <th>Gender</th>\n",
       "      <th>Age</th>\n",
       "      <th>Occupation</th>\n",
       "      <th>City_Category</th>\n",
       "      <th>Stay_In_Current_City_Years</th>\n",
       "      <th>Marital_Status</th>\n",
       "      <th>Product_Category</th>\n",
       "      <th>Purchase</th>\n",
       "    </tr>\n",
       "  </thead>\n",
       "  <tbody>\n",
       "    <tr>\n",
       "      <th>0</th>\n",
       "      <td>1000001</td>\n",
       "      <td>P00069042</td>\n",
       "      <td>F</td>\n",
       "      <td>0-17</td>\n",
       "      <td>10</td>\n",
       "      <td>A</td>\n",
       "      <td>2</td>\n",
       "      <td>0</td>\n",
       "      <td>3</td>\n",
       "      <td>8370</td>\n",
       "    </tr>\n",
       "    <tr>\n",
       "      <th>1</th>\n",
       "      <td>1000001</td>\n",
       "      <td>P00248942</td>\n",
       "      <td>F</td>\n",
       "      <td>0-17</td>\n",
       "      <td>10</td>\n",
       "      <td>A</td>\n",
       "      <td>2</td>\n",
       "      <td>0</td>\n",
       "      <td>1</td>\n",
       "      <td>15200</td>\n",
       "    </tr>\n",
       "    <tr>\n",
       "      <th>2</th>\n",
       "      <td>1000001</td>\n",
       "      <td>P00087842</td>\n",
       "      <td>F</td>\n",
       "      <td>0-17</td>\n",
       "      <td>10</td>\n",
       "      <td>A</td>\n",
       "      <td>2</td>\n",
       "      <td>0</td>\n",
       "      <td>12</td>\n",
       "      <td>1422</td>\n",
       "    </tr>\n",
       "    <tr>\n",
       "      <th>3</th>\n",
       "      <td>1000001</td>\n",
       "      <td>P00085442</td>\n",
       "      <td>F</td>\n",
       "      <td>0-17</td>\n",
       "      <td>10</td>\n",
       "      <td>A</td>\n",
       "      <td>2</td>\n",
       "      <td>0</td>\n",
       "      <td>12</td>\n",
       "      <td>1057</td>\n",
       "    </tr>\n",
       "    <tr>\n",
       "      <th>4</th>\n",
       "      <td>1000002</td>\n",
       "      <td>P00285442</td>\n",
       "      <td>M</td>\n",
       "      <td>55+</td>\n",
       "      <td>16</td>\n",
       "      <td>C</td>\n",
       "      <td>4+</td>\n",
       "      <td>0</td>\n",
       "      <td>8</td>\n",
       "      <td>7969</td>\n",
       "    </tr>\n",
       "  </tbody>\n",
       "</table>\n",
       "</div>"
      ],
      "text/plain": [
       "   User_ID Product_ID Gender   Age  Occupation City_Category  \\\n",
       "0  1000001  P00069042      F  0-17          10             A   \n",
       "1  1000001  P00248942      F  0-17          10             A   \n",
       "2  1000001  P00087842      F  0-17          10             A   \n",
       "3  1000001  P00085442      F  0-17          10             A   \n",
       "4  1000002  P00285442      M   55+          16             C   \n",
       "\n",
       "  Stay_In_Current_City_Years  Marital_Status  Product_Category  Purchase  \n",
       "0                          2               0                 3      8370  \n",
       "1                          2               0                 1     15200  \n",
       "2                          2               0                12      1422  \n",
       "3                          2               0                12      1057  \n",
       "4                         4+               0                 8      7969  "
      ]
     },
     "execution_count": 4,
     "metadata": {},
     "output_type": "execute_result"
    }
   ],
   "source": [
    "df.head()"
   ]
  },
  {
   "cell_type": "code",
   "execution_count": 5,
   "metadata": {},
   "outputs": [
    {
     "data": {
      "text/html": [
       "<div>\n",
       "<style scoped>\n",
       "    .dataframe tbody tr th:only-of-type {\n",
       "        vertical-align: middle;\n",
       "    }\n",
       "\n",
       "    .dataframe tbody tr th {\n",
       "        vertical-align: top;\n",
       "    }\n",
       "\n",
       "    .dataframe thead th {\n",
       "        text-align: right;\n",
       "    }\n",
       "</style>\n",
       "<table border=\"1\" class=\"dataframe\">\n",
       "  <thead>\n",
       "    <tr style=\"text-align: right;\">\n",
       "      <th></th>\n",
       "      <th>User_ID</th>\n",
       "      <th>Product_ID</th>\n",
       "      <th>Gender</th>\n",
       "      <th>Age</th>\n",
       "      <th>Occupation</th>\n",
       "      <th>City_Category</th>\n",
       "      <th>Stay_In_Current_City_Years</th>\n",
       "      <th>Marital_Status</th>\n",
       "      <th>Product_Category</th>\n",
       "      <th>Purchase</th>\n",
       "    </tr>\n",
       "  </thead>\n",
       "  <tbody>\n",
       "    <tr>\n",
       "      <th>550063</th>\n",
       "      <td>1006033</td>\n",
       "      <td>P00372445</td>\n",
       "      <td>M</td>\n",
       "      <td>51-55</td>\n",
       "      <td>13</td>\n",
       "      <td>B</td>\n",
       "      <td>1</td>\n",
       "      <td>1</td>\n",
       "      <td>20</td>\n",
       "      <td>368</td>\n",
       "    </tr>\n",
       "    <tr>\n",
       "      <th>550064</th>\n",
       "      <td>1006035</td>\n",
       "      <td>P00375436</td>\n",
       "      <td>F</td>\n",
       "      <td>26-35</td>\n",
       "      <td>1</td>\n",
       "      <td>C</td>\n",
       "      <td>3</td>\n",
       "      <td>0</td>\n",
       "      <td>20</td>\n",
       "      <td>371</td>\n",
       "    </tr>\n",
       "    <tr>\n",
       "      <th>550065</th>\n",
       "      <td>1006036</td>\n",
       "      <td>P00375436</td>\n",
       "      <td>F</td>\n",
       "      <td>26-35</td>\n",
       "      <td>15</td>\n",
       "      <td>B</td>\n",
       "      <td>4+</td>\n",
       "      <td>1</td>\n",
       "      <td>20</td>\n",
       "      <td>137</td>\n",
       "    </tr>\n",
       "    <tr>\n",
       "      <th>550066</th>\n",
       "      <td>1006038</td>\n",
       "      <td>P00375436</td>\n",
       "      <td>F</td>\n",
       "      <td>55+</td>\n",
       "      <td>1</td>\n",
       "      <td>C</td>\n",
       "      <td>2</td>\n",
       "      <td>0</td>\n",
       "      <td>20</td>\n",
       "      <td>365</td>\n",
       "    </tr>\n",
       "    <tr>\n",
       "      <th>550067</th>\n",
       "      <td>1006039</td>\n",
       "      <td>P00371644</td>\n",
       "      <td>F</td>\n",
       "      <td>46-50</td>\n",
       "      <td>0</td>\n",
       "      <td>B</td>\n",
       "      <td>4+</td>\n",
       "      <td>1</td>\n",
       "      <td>20</td>\n",
       "      <td>490</td>\n",
       "    </tr>\n",
       "  </tbody>\n",
       "</table>\n",
       "</div>"
      ],
      "text/plain": [
       "        User_ID Product_ID Gender    Age  Occupation City_Category  \\\n",
       "550063  1006033  P00372445      M  51-55          13             B   \n",
       "550064  1006035  P00375436      F  26-35           1             C   \n",
       "550065  1006036  P00375436      F  26-35          15             B   \n",
       "550066  1006038  P00375436      F    55+           1             C   \n",
       "550067  1006039  P00371644      F  46-50           0             B   \n",
       "\n",
       "       Stay_In_Current_City_Years  Marital_Status  Product_Category  Purchase  \n",
       "550063                          1               1                20       368  \n",
       "550064                          3               0                20       371  \n",
       "550065                         4+               1                20       137  \n",
       "550066                          2               0                20       365  \n",
       "550067                         4+               1                20       490  "
      ]
     },
     "execution_count": 5,
     "metadata": {},
     "output_type": "execute_result"
    }
   ],
   "source": [
    "df.tail()"
   ]
  },
  {
   "cell_type": "markdown",
   "metadata": {},
   "source": [
    "##### Shape of Dataset"
   ]
  },
  {
   "cell_type": "code",
   "execution_count": 6,
   "metadata": {},
   "outputs": [
    {
     "data": {
      "text/plain": [
       "(550068, 10)"
      ]
     },
     "execution_count": 6,
     "metadata": {},
     "output_type": "execute_result"
    }
   ],
   "source": [
    "df.shape"
   ]
  },
  {
   "cell_type": "markdown",
   "metadata": {},
   "source": [
    "1. Number of rows: 550068\n",
    "2. Number of columns :10"
   ]
  },
  {
   "cell_type": "code",
   "execution_count": 7,
   "metadata": {},
   "outputs": [
    {
     "name": "stdout",
     "output_type": "stream",
     "text": [
      "Columns in Dataset: Index(['User_ID', 'Product_ID', 'Gender', 'Age', 'Occupation', 'City_Category',\n",
      "       'Stay_In_Current_City_Years', 'Marital_Status', 'Product_Category',\n",
      "       'Purchase'],\n",
      "      dtype='object')\n"
     ]
    }
   ],
   "source": [
    "print(\"Columns in Dataset:\",df.columns)"
   ]
  },
  {
   "cell_type": "code",
   "execution_count": 8,
   "metadata": {},
   "outputs": [
    {
     "name": "stdout",
     "output_type": "stream",
     "text": [
      "<class 'pandas.core.frame.DataFrame'>\n",
      "RangeIndex: 550068 entries, 0 to 550067\n",
      "Data columns (total 10 columns):\n",
      " #   Column                      Non-Null Count   Dtype \n",
      "---  ------                      --------------   ----- \n",
      " 0   User_ID                     550068 non-null  int64 \n",
      " 1   Product_ID                  550068 non-null  object\n",
      " 2   Gender                      550068 non-null  object\n",
      " 3   Age                         550068 non-null  object\n",
      " 4   Occupation                  550068 non-null  int64 \n",
      " 5   City_Category               550068 non-null  object\n",
      " 6   Stay_In_Current_City_Years  550068 non-null  object\n",
      " 7   Marital_Status              550068 non-null  int64 \n",
      " 8   Product_Category            550068 non-null  int64 \n",
      " 9   Purchase                    550068 non-null  int64 \n",
      "dtypes: int64(5), object(5)\n",
      "memory usage: 42.0+ MB\n"
     ]
    }
   ],
   "source": [
    "df.info()"
   ]
  },
  {
   "cell_type": "markdown",
   "metadata": {},
   "source": [
    "###### Datatypes of Columns"
   ]
  },
  {
   "cell_type": "code",
   "execution_count": 9,
   "metadata": {},
   "outputs": [
    {
     "data": {
      "text/plain": [
       "User_ID                        int64\n",
       "Product_ID                    object\n",
       "Gender                        object\n",
       "Age                           object\n",
       "Occupation                     int64\n",
       "City_Category                 object\n",
       "Stay_In_Current_City_Years    object\n",
       "Marital_Status                 int64\n",
       "Product_Category               int64\n",
       "Purchase                       int64\n",
       "dtype: object"
      ]
     },
     "execution_count": 9,
     "metadata": {},
     "output_type": "execute_result"
    }
   ],
   "source": [
    "df.dtypes"
   ]
  },
  {
   "cell_type": "markdown",
   "metadata": {},
   "source": [
    "The columns gender, age, city_category, stay_in_current_city_years and marital status can be converted into category datatype."
   ]
  },
  {
   "cell_type": "code",
   "execution_count": 4,
   "metadata": {},
   "outputs": [],
   "source": [
    "df[\"Gender\"] = df[\"Gender\"].astype('category')\n",
    "df[\"Age\"] = df[\"Age\"].astype('category')\n",
    "df[\"City_Category\"] = df[\"City_Category\"].astype('category')\n",
    "df[\"Stay_In_Current_City_Years\"] = df[\"Stay_In_Current_City_Years\"].astype('category')\n",
    "df[\"Marital_Status\"] = df[\"Marital_Status\"].astype('category')"
   ]
  },
  {
   "cell_type": "code",
   "execution_count": 5,
   "metadata": {},
   "outputs": [
    {
     "name": "stdout",
     "output_type": "stream",
     "text": [
      "<class 'pandas.core.frame.DataFrame'>\n",
      "RangeIndex: 550068 entries, 0 to 550067\n",
      "Data columns (total 10 columns):\n",
      " #   Column                      Non-Null Count   Dtype   \n",
      "---  ------                      --------------   -----   \n",
      " 0   User_ID                     550068 non-null  int64   \n",
      " 1   Product_ID                  550068 non-null  object  \n",
      " 2   Gender                      550068 non-null  category\n",
      " 3   Age                         550068 non-null  category\n",
      " 4   Occupation                  550068 non-null  int64   \n",
      " 5   City_Category               550068 non-null  category\n",
      " 6   Stay_In_Current_City_Years  550068 non-null  category\n",
      " 7   Marital_Status              550068 non-null  category\n",
      " 8   Product_Category            550068 non-null  int64   \n",
      " 9   Purchase                    550068 non-null  int64   \n",
      "dtypes: category(5), int64(4), object(1)\n",
      "memory usage: 23.6+ MB\n"
     ]
    }
   ],
   "source": [
    "df.info()"
   ]
  },
  {
   "cell_type": "markdown",
   "metadata": {},
   "source": [
    "##### Statistical Summary"
   ]
  },
  {
   "cell_type": "code",
   "execution_count": 12,
   "metadata": {},
   "outputs": [
    {
     "data": {
      "text/html": [
       "<div>\n",
       "<style scoped>\n",
       "    .dataframe tbody tr th:only-of-type {\n",
       "        vertical-align: middle;\n",
       "    }\n",
       "\n",
       "    .dataframe tbody tr th {\n",
       "        vertical-align: top;\n",
       "    }\n",
       "\n",
       "    .dataframe thead th {\n",
       "        text-align: right;\n",
       "    }\n",
       "</style>\n",
       "<table border=\"1\" class=\"dataframe\">\n",
       "  <thead>\n",
       "    <tr style=\"text-align: right;\">\n",
       "      <th></th>\n",
       "      <th>User_ID</th>\n",
       "      <th>Product_ID</th>\n",
       "      <th>Gender</th>\n",
       "      <th>Age</th>\n",
       "      <th>Occupation</th>\n",
       "      <th>City_Category</th>\n",
       "      <th>Stay_In_Current_City_Years</th>\n",
       "      <th>Marital_Status</th>\n",
       "      <th>Product_Category</th>\n",
       "      <th>Purchase</th>\n",
       "    </tr>\n",
       "  </thead>\n",
       "  <tbody>\n",
       "    <tr>\n",
       "      <th>count</th>\n",
       "      <td>5.500680e+05</td>\n",
       "      <td>550068</td>\n",
       "      <td>550068</td>\n",
       "      <td>550068</td>\n",
       "      <td>550068.000000</td>\n",
       "      <td>550068</td>\n",
       "      <td>550068</td>\n",
       "      <td>550068.0</td>\n",
       "      <td>550068.000000</td>\n",
       "      <td>550068.000000</td>\n",
       "    </tr>\n",
       "    <tr>\n",
       "      <th>unique</th>\n",
       "      <td>NaN</td>\n",
       "      <td>3631</td>\n",
       "      <td>2</td>\n",
       "      <td>7</td>\n",
       "      <td>NaN</td>\n",
       "      <td>3</td>\n",
       "      <td>5</td>\n",
       "      <td>2.0</td>\n",
       "      <td>NaN</td>\n",
       "      <td>NaN</td>\n",
       "    </tr>\n",
       "    <tr>\n",
       "      <th>top</th>\n",
       "      <td>NaN</td>\n",
       "      <td>P00265242</td>\n",
       "      <td>M</td>\n",
       "      <td>26-35</td>\n",
       "      <td>NaN</td>\n",
       "      <td>B</td>\n",
       "      <td>1</td>\n",
       "      <td>0.0</td>\n",
       "      <td>NaN</td>\n",
       "      <td>NaN</td>\n",
       "    </tr>\n",
       "    <tr>\n",
       "      <th>freq</th>\n",
       "      <td>NaN</td>\n",
       "      <td>1880</td>\n",
       "      <td>414259</td>\n",
       "      <td>219587</td>\n",
       "      <td>NaN</td>\n",
       "      <td>231173</td>\n",
       "      <td>193821</td>\n",
       "      <td>324731.0</td>\n",
       "      <td>NaN</td>\n",
       "      <td>NaN</td>\n",
       "    </tr>\n",
       "    <tr>\n",
       "      <th>mean</th>\n",
       "      <td>1.003029e+06</td>\n",
       "      <td>NaN</td>\n",
       "      <td>NaN</td>\n",
       "      <td>NaN</td>\n",
       "      <td>8.076707</td>\n",
       "      <td>NaN</td>\n",
       "      <td>NaN</td>\n",
       "      <td>NaN</td>\n",
       "      <td>5.404270</td>\n",
       "      <td>9263.968713</td>\n",
       "    </tr>\n",
       "    <tr>\n",
       "      <th>std</th>\n",
       "      <td>1.727592e+03</td>\n",
       "      <td>NaN</td>\n",
       "      <td>NaN</td>\n",
       "      <td>NaN</td>\n",
       "      <td>6.522660</td>\n",
       "      <td>NaN</td>\n",
       "      <td>NaN</td>\n",
       "      <td>NaN</td>\n",
       "      <td>3.936211</td>\n",
       "      <td>5023.065394</td>\n",
       "    </tr>\n",
       "    <tr>\n",
       "      <th>min</th>\n",
       "      <td>1.000001e+06</td>\n",
       "      <td>NaN</td>\n",
       "      <td>NaN</td>\n",
       "      <td>NaN</td>\n",
       "      <td>0.000000</td>\n",
       "      <td>NaN</td>\n",
       "      <td>NaN</td>\n",
       "      <td>NaN</td>\n",
       "      <td>1.000000</td>\n",
       "      <td>12.000000</td>\n",
       "    </tr>\n",
       "    <tr>\n",
       "      <th>25%</th>\n",
       "      <td>1.001516e+06</td>\n",
       "      <td>NaN</td>\n",
       "      <td>NaN</td>\n",
       "      <td>NaN</td>\n",
       "      <td>2.000000</td>\n",
       "      <td>NaN</td>\n",
       "      <td>NaN</td>\n",
       "      <td>NaN</td>\n",
       "      <td>1.000000</td>\n",
       "      <td>5823.000000</td>\n",
       "    </tr>\n",
       "    <tr>\n",
       "      <th>50%</th>\n",
       "      <td>1.003077e+06</td>\n",
       "      <td>NaN</td>\n",
       "      <td>NaN</td>\n",
       "      <td>NaN</td>\n",
       "      <td>7.000000</td>\n",
       "      <td>NaN</td>\n",
       "      <td>NaN</td>\n",
       "      <td>NaN</td>\n",
       "      <td>5.000000</td>\n",
       "      <td>8047.000000</td>\n",
       "    </tr>\n",
       "    <tr>\n",
       "      <th>75%</th>\n",
       "      <td>1.004478e+06</td>\n",
       "      <td>NaN</td>\n",
       "      <td>NaN</td>\n",
       "      <td>NaN</td>\n",
       "      <td>14.000000</td>\n",
       "      <td>NaN</td>\n",
       "      <td>NaN</td>\n",
       "      <td>NaN</td>\n",
       "      <td>8.000000</td>\n",
       "      <td>12054.000000</td>\n",
       "    </tr>\n",
       "    <tr>\n",
       "      <th>max</th>\n",
       "      <td>1.006040e+06</td>\n",
       "      <td>NaN</td>\n",
       "      <td>NaN</td>\n",
       "      <td>NaN</td>\n",
       "      <td>20.000000</td>\n",
       "      <td>NaN</td>\n",
       "      <td>NaN</td>\n",
       "      <td>NaN</td>\n",
       "      <td>20.000000</td>\n",
       "      <td>23961.000000</td>\n",
       "    </tr>\n",
       "  </tbody>\n",
       "</table>\n",
       "</div>"
      ],
      "text/plain": [
       "             User_ID Product_ID  Gender     Age     Occupation City_Category  \\\n",
       "count   5.500680e+05     550068  550068  550068  550068.000000        550068   \n",
       "unique           NaN       3631       2       7            NaN             3   \n",
       "top              NaN  P00265242       M   26-35            NaN             B   \n",
       "freq             NaN       1880  414259  219587            NaN        231173   \n",
       "mean    1.003029e+06        NaN     NaN     NaN       8.076707           NaN   \n",
       "std     1.727592e+03        NaN     NaN     NaN       6.522660           NaN   \n",
       "min     1.000001e+06        NaN     NaN     NaN       0.000000           NaN   \n",
       "25%     1.001516e+06        NaN     NaN     NaN       2.000000           NaN   \n",
       "50%     1.003077e+06        NaN     NaN     NaN       7.000000           NaN   \n",
       "75%     1.004478e+06        NaN     NaN     NaN      14.000000           NaN   \n",
       "max     1.006040e+06        NaN     NaN     NaN      20.000000           NaN   \n",
       "\n",
       "       Stay_In_Current_City_Years  Marital_Status  Product_Category  \\\n",
       "count                      550068        550068.0     550068.000000   \n",
       "unique                          5             2.0               NaN   \n",
       "top                             1             0.0               NaN   \n",
       "freq                       193821        324731.0               NaN   \n",
       "mean                          NaN             NaN          5.404270   \n",
       "std                           NaN             NaN          3.936211   \n",
       "min                           NaN             NaN          1.000000   \n",
       "25%                           NaN             NaN          1.000000   \n",
       "50%                           NaN             NaN          5.000000   \n",
       "75%                           NaN             NaN          8.000000   \n",
       "max                           NaN             NaN         20.000000   \n",
       "\n",
       "             Purchase  \n",
       "count   550068.000000  \n",
       "unique            NaN  \n",
       "top               NaN  \n",
       "freq              NaN  \n",
       "mean      9263.968713  \n",
       "std       5023.065394  \n",
       "min         12.000000  \n",
       "25%       5823.000000  \n",
       "50%       8047.000000  \n",
       "75%      12054.000000  \n",
       "max      23961.000000  "
      ]
     },
     "execution_count": 12,
     "metadata": {},
     "output_type": "execute_result"
    }
   ],
   "source": [
    "df.describe(include=\"all\")"
   ]
  },
  {
   "cell_type": "markdown",
   "metadata": {},
   "source": [
    "##### Checking Null Values"
   ]
  },
  {
   "cell_type": "code",
   "execution_count": 13,
   "metadata": {},
   "outputs": [
    {
     "data": {
      "text/plain": [
       "User_ID                       0\n",
       "Product_ID                    0\n",
       "Gender                        0\n",
       "Age                           0\n",
       "Occupation                    0\n",
       "City_Category                 0\n",
       "Stay_In_Current_City_Years    0\n",
       "Marital_Status                0\n",
       "Product_Category              0\n",
       "Purchase                      0\n",
       "dtype: int64"
      ]
     },
     "execution_count": 13,
     "metadata": {},
     "output_type": "execute_result"
    }
   ],
   "source": [
    "df.isna().sum()"
   ]
  },
  {
   "cell_type": "code",
   "execution_count": 14,
   "metadata": {},
   "outputs": [
    {
     "data": {
      "text/plain": [
       "User_ID                       False\n",
       "Product_ID                    False\n",
       "Gender                        False\n",
       "Age                           False\n",
       "Occupation                    False\n",
       "City_Category                 False\n",
       "Stay_In_Current_City_Years    False\n",
       "Marital_Status                False\n",
       "Product_Category              False\n",
       "Purchase                      False\n",
       "dtype: bool"
      ]
     },
     "execution_count": 14,
     "metadata": {},
     "output_type": "execute_result"
    }
   ],
   "source": [
    "df.isna().any()"
   ]
  },
  {
   "cell_type": "markdown",
   "metadata": {},
   "source": [
    "##### Insights"
   ]
  },
  {
   "cell_type": "markdown",
   "metadata": {},
   "source": [
    "1. There are 550068 rows and 10 columns\n",
    "2. There are no null values in the dataset.\n",
    "3. Columns User_ID,Occupation, Product_Category and Purchase are of integer datatype.\n",
    "4. The columns gender, age, city_category, stay_in_current_city_years and marital status were converted into category datatype.\n",
    "5. Range of Purchase Amount is from 12 Dollars to 23961 Dollars\n",
    "6. Mean Purchase amount is 9263.968713 Dollars.\n",
    "7. Median Purchase amount is 8047 Dollars.\n",
    "8. There are 3631 unique Product_ID.\n",
    "9. Age group which makes the most Purchases is 26-35  having 219587 Purchases."
   ]
  },
  {
   "cell_type": "markdown",
   "metadata": {},
   "source": [
    "### Non-Graphical Analysis: Value counts and unique attributes"
   ]
  },
  {
   "cell_type": "code",
   "execution_count": 15,
   "metadata": {},
   "outputs": [
    {
     "data": {
      "text/plain": [
       "P00265242    1880\n",
       "P00025442    1615\n",
       "P00110742    1612\n",
       "P00112142    1562\n",
       "P00057642    1470\n",
       "             ... \n",
       "P00314842       1\n",
       "P00298842       1\n",
       "P00231642       1\n",
       "P00204442       1\n",
       "P00066342       1\n",
       "Name: Product_ID, Length: 3631, dtype: int64"
      ]
     },
     "execution_count": 15,
     "metadata": {},
     "output_type": "execute_result"
    }
   ],
   "source": [
    "df[\"Product_ID\"].value_counts()"
   ]
  },
  {
   "cell_type": "code",
   "execution_count": 16,
   "metadata": {},
   "outputs": [
    {
     "data": {
      "text/plain": [
       "M    414259\n",
       "F    135809\n",
       "Name: Gender, dtype: int64"
      ]
     },
     "execution_count": 16,
     "metadata": {},
     "output_type": "execute_result"
    }
   ],
   "source": [
    "df[\"Gender\"].value_counts()"
   ]
  },
  {
   "cell_type": "code",
   "execution_count": 73,
   "metadata": {},
   "outputs": [
    {
     "data": {
      "text/plain": [
       "M    0.753105\n",
       "F    0.246895\n",
       "Name: Gender, dtype: float64"
      ]
     },
     "execution_count": 73,
     "metadata": {},
     "output_type": "execute_result"
    }
   ],
   "source": [
    "df[\"Gender\"].value_counts(normalize=True)"
   ]
  },
  {
   "cell_type": "code",
   "execution_count": 56,
   "metadata": {},
   "outputs": [
    {
     "data": {
      "text/plain": [
       "26-35    219587\n",
       "36-45    110013\n",
       "18-25     99660\n",
       "46-50     45701\n",
       "51-55     38501\n",
       "55+       21504\n",
       "0-17      15102\n",
       "Name: Age, dtype: int64"
      ]
     },
     "execution_count": 56,
     "metadata": {},
     "output_type": "execute_result"
    }
   ],
   "source": [
    "df[\"Age\"].value_counts()"
   ]
  },
  {
   "cell_type": "code",
   "execution_count": 17,
   "metadata": {},
   "outputs": [
    {
     "data": {
      "text/plain": [
       "1001680    1026\n",
       "1004277     979\n",
       "1001941     898\n",
       "1001181     862\n",
       "1000889     823\n",
       "           ... \n",
       "1002690       7\n",
       "1002111       7\n",
       "1005810       7\n",
       "1004991       7\n",
       "1000708       6\n",
       "Name: User_ID, Length: 5891, dtype: int64"
      ]
     },
     "execution_count": 17,
     "metadata": {},
     "output_type": "execute_result"
    }
   ],
   "source": [
    "df[\"User_ID\"].value_counts()"
   ]
  },
  {
   "cell_type": "code",
   "execution_count": 18,
   "metadata": {},
   "outputs": [
    {
     "data": {
      "text/plain": [
       "B    231173\n",
       "C    171175\n",
       "A    147720\n",
       "Name: City_Category, dtype: int64"
      ]
     },
     "execution_count": 18,
     "metadata": {},
     "output_type": "execute_result"
    }
   ],
   "source": [
    "df[\"City_Category\"].value_counts()"
   ]
  },
  {
   "cell_type": "code",
   "execution_count": 19,
   "metadata": {},
   "outputs": [
    {
     "data": {
      "text/plain": [
       "1     193821\n",
       "2     101838\n",
       "3      95285\n",
       "4+     84726\n",
       "0      74398\n",
       "Name: Stay_In_Current_City_Years, dtype: int64"
      ]
     },
     "execution_count": 19,
     "metadata": {},
     "output_type": "execute_result"
    }
   ],
   "source": [
    "df[\"Stay_In_Current_City_Years\"].value_counts()"
   ]
  },
  {
   "cell_type": "code",
   "execution_count": 20,
   "metadata": {},
   "outputs": [
    {
     "data": {
      "text/plain": [
       "0    324731\n",
       "1    225337\n",
       "Name: Marital_Status, dtype: int64"
      ]
     },
     "execution_count": 20,
     "metadata": {},
     "output_type": "execute_result"
    }
   ],
   "source": [
    "df[\"Marital_Status\"].value_counts()"
   ]
  },
  {
   "cell_type": "code",
   "execution_count": 21,
   "metadata": {},
   "outputs": [
    {
     "data": {
      "text/plain": [
       "4     72308\n",
       "0     69638\n",
       "7     59133\n",
       "1     47426\n",
       "17    40043\n",
       "20    33562\n",
       "12    31179\n",
       "14    27309\n",
       "2     26588\n",
       "16    25371\n",
       "6     20355\n",
       "3     17650\n",
       "10    12930\n",
       "5     12177\n",
       "15    12165\n",
       "11    11586\n",
       "19     8461\n",
       "13     7728\n",
       "18     6622\n",
       "9      6291\n",
       "8      1546\n",
       "Name: Occupation, dtype: int64"
      ]
     },
     "execution_count": 21,
     "metadata": {},
     "output_type": "execute_result"
    }
   ],
   "source": [
    "df[\"Occupation\"].value_counts()"
   ]
  },
  {
   "cell_type": "code",
   "execution_count": 22,
   "metadata": {},
   "outputs": [
    {
     "data": {
      "text/plain": [
       "5     150933\n",
       "1     140378\n",
       "8     113925\n",
       "11     24287\n",
       "2      23864\n",
       "6      20466\n",
       "3      20213\n",
       "4      11753\n",
       "16      9828\n",
       "15      6290\n",
       "13      5549\n",
       "10      5125\n",
       "12      3947\n",
       "7       3721\n",
       "18      3125\n",
       "20      2550\n",
       "19      1603\n",
       "14      1523\n",
       "17       578\n",
       "9        410\n",
       "Name: Product_Category, dtype: int64"
      ]
     },
     "execution_count": 22,
     "metadata": {},
     "output_type": "execute_result"
    }
   ],
   "source": [
    "df[\"Product_Category\"].value_counts()"
   ]
  },
  {
   "cell_type": "markdown",
   "metadata": {},
   "source": [
    "#### Insights"
   ]
  },
  {
   "cell_type": "markdown",
   "metadata": {},
   "source": [
    "1. P00265242 is the most selling product.\n",
    "2. Males constitute 75% of the buyers.\n",
    "3. Maximum number of Purchase are made by people of age group 26-35 having 219587 Purchases\n",
    "4. User_ID 1001680 has made most number of Purchases.\n",
    "5. People in City Category B have made most number of Purchases.\n",
    "6. People Who have stayed in the City for 1 year have made more number of Purchses thenothers,\n",
    "7. Unmarried People have made more Purchases.\n",
    "8. Occupation Category Ranges from 0 to 20.\n",
    "9. Maximum number of people belong to Occupation Category 4.\n",
    "10. Maximum Sold Products belong to Product Category 5. "
   ]
  },
  {
   "cell_type": "markdown",
   "metadata": {},
   "source": [
    "### Visual Analysis - Univariate & Bivariate"
   ]
  },
  {
   "cell_type": "markdown",
   "metadata": {},
   "source": [
    "##### Univariate (Numerical)"
   ]
  },
  {
   "cell_type": "markdown",
   "metadata": {},
   "source": [
    "Occupation"
   ]
  },
  {
   "cell_type": "code",
   "execution_count": 23,
   "metadata": {},
   "outputs": [
    {
     "data": {
      "text/plain": [
       "<Axes: xlabel='Occupation', ylabel='Count'>"
      ]
     },
     "execution_count": 23,
     "metadata": {},
     "output_type": "execute_result"
    },
    {
     "data": {
      "image/png": "[encoded data removed]",
      "text/plain": [
       "<Figure size 640x480 with 1 Axes>"
      ]
     },
     "metadata": {},
     "output_type": "display_data"
    }
   ],
   "source": [
    "sns.histplot(data=df,x=\"Occupation\",kde=True, color=\"tomato\")"
   ]
  },
  {
   "cell_type": "markdown",
   "metadata": {},
   "source": [
    "Product_Category"
   ]
  },
  {
   "cell_type": "code",
   "execution_count": 24,
   "metadata": {},
   "outputs": [
    {
     "data": {
      "text/plain": [
       "<Axes: xlabel='Product_Category', ylabel='Count'>"
      ]
     },
     "execution_count": 24,
     "metadata": {},
     "output_type": "execute_result"
    },
    {
     "data": {
      "image/png": "[encoded data removed]",
      "text/plain": [
       "<Figure size 640x480 with 1 Axes>"
      ]
     },
     "metadata": {},
     "output_type": "display_data"
    }
   ],
   "source": [
    "sns.histplot(data=df,x=\"Product_Category\",kde=True, color=\"blue\")"
   ]
  },
  {
   "cell_type": "markdown",
   "metadata": {},
   "source": [
    "Purchase"
   ]
  },
  {
   "cell_type": "code",
   "execution_count": 25,
   "metadata": {},
   "outputs": [
    {
     "data": {
      "text/plain": [
       "<Axes: xlabel='Purchase', ylabel='Count'>"
      ]
     },
     "execution_count": 25,
     "metadata": {},
     "output_type": "execute_result"
    },
    {
     "data": {
      "image/png": "[encoded data removed]",
      "text/plain": [
       "<Figure size 640x480 with 1 Axes>"
      ]
     },
     "metadata": {},
     "output_type": "display_data"
    }
   ],
   "source": [
    "sns.histplot(data=df,x=\"Purchase\",kde=True, color=\"c\")"
   ]
  },
  {
   "cell_type": "markdown",
   "metadata": {},
   "source": [
    "##### Univariate (Categorical)"
   ]
  },
  {
   "cell_type": "markdown",
   "metadata": {},
   "source": [
    "Gender"
   ]
  },
  {
   "cell_type": "code",
   "execution_count": 26,
   "metadata": {},
   "outputs": [
    {
     "data": {
      "text/plain": [
       "<Axes: xlabel='Gender', ylabel='count'>"
      ]
     },
     "execution_count": 26,
     "metadata": {},
     "output_type": "execute_result"
    },
    {
     "data": {
      "image/png": "[encoded data removed]",
      "text/plain": [
       "<Figure size 640x480 with 1 Axes>"
      ]
     },
     "metadata": {},
     "output_type": "display_data"
    }
   ],
   "source": [
    "sns.countplot(data=df,x=\"Gender\",color=\"brown\")"
   ]
  },
  {
   "cell_type": "markdown",
   "metadata": {},
   "source": [
    "Age"
   ]
  },
  {
   "cell_type": "code",
   "execution_count": 27,
   "metadata": {},
   "outputs": [
    {
     "data": {
      "text/plain": [
       "<Axes: xlabel='Age', ylabel='count'>"
      ]
     },
     "execution_count": 27,
     "metadata": {},
     "output_type": "execute_result"
    },
    {
     "data": {
      "image/png": "[encoded data removed]",
      "text/plain": [
       "<Figure size 640x480 with 1 Axes>"
      ]
     },
     "metadata": {},
     "output_type": "display_data"
    }
   ],
   "source": [
    "sns.countplot(data=df,x=\"Age\",color=\"plum\")"
   ]
  },
  {
   "cell_type": "markdown",
   "metadata": {},
   "source": [
    "City_Category"
   ]
  },
  {
   "cell_type": "code",
   "execution_count": 74,
   "metadata": {},
   "outputs": [
    {
     "data": {
      "text/plain": [
       "<Axes: xlabel='City_Category', ylabel='count'>"
      ]
     },
     "execution_count": 74,
     "metadata": {},
     "output_type": "execute_result"
    },
    {
     "data": {
      "image/png": "[encoded data removed]",
      "text/plain": [
       "<Figure size 640x480 with 1 Axes>"
      ]
     },
     "metadata": {},
     "output_type": "display_data"
    }
   ],
   "source": [
    "sns.countplot(data=df,x=\"City_Category\",color=\"gold\")"
   ]
  },
  {
   "cell_type": "markdown",
   "metadata": {},
   "source": [
    "Stay_In_Current_City_Years"
   ]
  },
  {
   "cell_type": "code",
   "execution_count": 29,
   "metadata": {},
   "outputs": [
    {
     "data": {
      "text/plain": [
       "<Axes: xlabel='Stay_In_Current_City_Years', ylabel='count'>"
      ]
     },
     "execution_count": 29,
     "metadata": {},
     "output_type": "execute_result"
    },
    {
     "data": {
      "image/png": "[encoded data removed]",
      "text/plain": [
       "<Figure size 640x480 with 1 Axes>"
      ]
     },
     "metadata": {},
     "output_type": "display_data"
    }
   ],
   "source": [
    "sns.countplot(data=df,x=\"Stay_In_Current_City_Years\",color=\"lime\")"
   ]
  },
  {
   "cell_type": "markdown",
   "metadata": {},
   "source": [
    "Marital_Status"
   ]
  },
  {
   "cell_type": "code",
   "execution_count": 30,
   "metadata": {},
   "outputs": [
    {
     "data": {
      "text/plain": [
       "<Axes: xlabel='Marital_Status', ylabel='count'>"
      ]
     },
     "execution_count": 30,
     "metadata": {},
     "output_type": "execute_result"
    },
    {
     "data": {
      "image/png": "[encoded data removed]",
      "text/plain": [
       "<Figure size 640x480 with 1 Axes>"
      ]
     },
     "metadata": {},
     "output_type": "display_data"
    }
   ],
   "source": [
    "sns.countplot(data=df,x=\"Marital_Status\",color=\"chocolate\")"
   ]
  },
  {
   "cell_type": "markdown",
   "metadata": {},
   "source": [
    "##### Insights"
   ]
  },
  {
   "cell_type": "markdown",
   "metadata": {},
   "source": [
    "Occupation\n",
    "1. Maximum number of buyers belong to Occupation category 4.\n",
    "2. Least number of buyers belong to Occupation category 8\n",
    "\n",
    "Product_Category\n",
    "1. 1,5 and 8 are most selling Product_Category\n",
    "2. 19 and 14 are least selling Product_Category\n",
    "\n",
    "Purchase\n",
    "1. Most number of Purchases are made between 5000 to 13000 Dollars\n",
    "2. Less Purchases have been made between 20000 to 25000 Dollars\n",
    "\n",
    "Gender\n",
    "1. Maximum number of buyers are males\n",
    "\n",
    "Age\n",
    "1. Maximum number of buyers belong to age group 26-35.\n",
    "2. Least number of buyers  belong to age group 0-17\n",
    "\n",
    "City_Category\n",
    "1. Maximum number of buyers belong to City Category B and least belong to City category A\n",
    "\n",
    "Stay_In_Current_City_Years\n",
    "1. Maximum number of buyers stay in current city for 1 year \n",
    "\n",
    "Marital_Status\n",
    "1. There are more umarried buyers than married"
   ]
  },
  {
   "cell_type": "markdown",
   "metadata": {},
   "source": [
    "#### Bivariate Analysis"
   ]
  },
  {
   "cell_type": "markdown",
   "metadata": {},
   "source": [
    "How is purchase affected by gender?"
   ]
  },
  {
   "cell_type": "code",
   "execution_count": 31,
   "metadata": {},
   "outputs": [
    {
     "data": {
      "text/plain": [
       "<Axes: xlabel='Gender', ylabel='Purchase'>"
      ]
     },
     "execution_count": 31,
     "metadata": {},
     "output_type": "execute_result"
    },
    {
     "data": {
      "image/png": "[encoded data removed]",
      "text/plain": [
       "<Figure size 640x480 with 1 Axes>"
      ]
     },
     "metadata": {},
     "output_type": "display_data"
    }
   ],
   "source": [
    "sns.boxplot(data=df,x=\"Gender\",y=\"Purchase\")"
   ]
  },
  {
   "cell_type": "code",
   "execution_count": 75,
   "metadata": {},
   "outputs": [
    {
     "data": {
      "text/plain": [
       "<Axes: xlabel='Purchase', ylabel='Density'>"
      ]
     },
     "execution_count": 75,
     "metadata": {},
     "output_type": "execute_result"
    },
    {
     "data": {
      "image/png": "[encoded data removed]",
      "text/plain": [
       "<Figure size 640x480 with 1 Axes>"
      ]
     },
     "metadata": {},
     "output_type": "display_data"
    }
   ],
   "source": [
    "sns.kdeplot(data=df, x=\"Purchase\", hue=\"Gender\")"
   ]
  },
  {
   "cell_type": "markdown",
   "metadata": {},
   "source": [
    "##### Insight"
   ]
  },
  {
   "cell_type": "markdown",
   "metadata": {},
   "source": [
    "Median Purchase made by both Males and Females is around 8000 Dollars, Maximum number of Purchase are made by males."
   ]
  },
  {
   "cell_type": "markdown",
   "metadata": {},
   "source": [
    "Question: How is purchase affected by Age?"
   ]
  },
  {
   "cell_type": "code",
   "execution_count": 32,
   "metadata": {},
   "outputs": [
    {
     "data": {
      "text/plain": [
       "<Axes: xlabel='Age', ylabel='Purchase'>"
      ]
     },
     "execution_count": 32,
     "metadata": {},
     "output_type": "execute_result"
    },
    {
     "data": {
      "image/png": "[encoded data removed]",
      "text/plain": [
       "<Figure size 640x480 with 1 Axes>"
      ]
     },
     "metadata": {},
     "output_type": "display_data"
    }
   ],
   "source": [
    "sns.boxplot(data=df,x=\"Age\",y=\"Purchase\")"
   ]
  },
  {
   "cell_type": "markdown",
   "metadata": {},
   "source": [
    "##### Insight"
   ]
  },
  {
   "cell_type": "markdown",
   "metadata": {},
   "source": [
    "Median Purchase Made by People of every age group is around 8000 Dollars.\n",
    "People of every age group are equally likely to make most purchases between 5000 Dollars to around 12000 Dollars."
   ]
  },
  {
   "cell_type": "markdown",
   "metadata": {},
   "source": [
    "Question: How is purchase affected by Occupation?"
   ]
  },
  {
   "cell_type": "code",
   "execution_count": 33,
   "metadata": {},
   "outputs": [
    {
     "data": {
      "text/plain": [
       "<Axes: xlabel='Occupation', ylabel='Purchase'>"
      ]
     },
     "execution_count": 33,
     "metadata": {},
     "output_type": "execute_result"
    },
    {
     "data": {
      "image/png": "[encoded data removed]",
      "text/plain": [
       "<Figure size 640x480 with 1 Axes>"
      ]
     },
     "metadata": {},
     "output_type": "display_data"
    }
   ],
   "source": [
    "sns.boxplot(data=df,x=\"Occupation\",y=\"Purchase\")"
   ]
  },
  {
   "cell_type": "markdown",
   "metadata": {},
   "source": [
    "##### Insights"
   ]
  },
  {
   "cell_type": "markdown",
   "metadata": {},
   "source": [
    "Median Purchase Made by People of every Occupation is around 8000 Dollars. People of every Occupation are likely tomake most purchases between 5000 Dollars to around 13000 Dollars."
   ]
  },
  {
   "cell_type": "markdown",
   "metadata": {},
   "source": [
    "Question: How is purchase affected by City_Category?"
   ]
  },
  {
   "cell_type": "code",
   "execution_count": 34,
   "metadata": {},
   "outputs": [
    {
     "data": {
      "text/plain": [
       "<Axes: xlabel='City_Category', ylabel='Purchase'>"
      ]
     },
     "execution_count": 34,
     "metadata": {},
     "output_type": "execute_result"
    },
    {
     "data": {
      "image/png": "[encoded data removed]",
      "text/plain": [
       "<Figure size 640x480 with 1 Axes>"
      ]
     },
     "metadata": {},
     "output_type": "display_data"
    }
   ],
   "source": [
    "sns.boxplot(data=df,x=\"City_Category\",y=\"Purchase\")"
   ]
  },
  {
   "cell_type": "markdown",
   "metadata": {},
   "source": [
    "##### Insights"
   ]
  },
  {
   "cell_type": "markdown",
   "metadata": {},
   "source": [
    "Median Purchase Made by People of City Category C is around 9000 Dollars, and that of City_Category A and B have median purchase of around 8000 Dollars.\n",
    "Most of the Purchases Made by people of City Category C range from around 6000 to 13000 Dollars whereas most of the Purchases made by People of City Category A and B range from around 5000 o 12000 Dollars."
   ]
  },
  {
   "cell_type": "markdown",
   "metadata": {},
   "source": [
    "Question: How is purchase affected by Stay_In_Current_City_Years?"
   ]
  },
  {
   "cell_type": "code",
   "execution_count": 35,
   "metadata": {},
   "outputs": [
    {
     "data": {
      "text/plain": [
       "<Axes: xlabel='Stay_In_Current_City_Years', ylabel='Purchase'>"
      ]
     },
     "execution_count": 35,
     "metadata": {},
     "output_type": "execute_result"
    },
    {
     "data": {
      "image/png": "[encoded data removed]",
      "text/plain": [
       "<Figure size 640x480 with 1 Axes>"
      ]
     },
     "metadata": {},
     "output_type": "display_data"
    }
   ],
   "source": [
    "sns.boxplot(data=df,x=\"Stay_In_Current_City_Years\",y=\"Purchase\")"
   ]
  },
  {
   "cell_type": "markdown",
   "metadata": {},
   "source": [
    "##### Insights"
   ]
  },
  {
   "cell_type": "markdown",
   "metadata": {},
   "source": [
    "Median Purchase Made by People staying in City for every number of years is around 8000 Dollars.\n",
    "People staying in City for every number of years make maximum purchases between 5000 Dollars to around 12000 Dollars."
   ]
  },
  {
   "cell_type": "markdown",
   "metadata": {},
   "source": [
    "Question: How is purchase affected by Marital_Status?"
   ]
  },
  {
   "cell_type": "code",
   "execution_count": 36,
   "metadata": {},
   "outputs": [
    {
     "data": {
      "text/plain": [
       "<Axes: xlabel='Marital_Status', ylabel='Purchase'>"
      ]
     },
     "execution_count": 36,
     "metadata": {},
     "output_type": "execute_result"
    },
    {
     "data": {
      "image/png": "[encoded data removed]",
      "text/plain": [
       "<Figure size 640x480 with 1 Axes>"
      ]
     },
     "metadata": {},
     "output_type": "display_data"
    }
   ],
   "source": [
    "sns.boxplot(data=df,x=\"Marital_Status\",y=\"Purchase\")"
   ]
  },
  {
   "cell_type": "markdown",
   "metadata": {},
   "source": [
    "##### Insights"
   ]
  },
  {
   "cell_type": "markdown",
   "metadata": {},
   "source": [
    "Median Purchase made by both Married and Unmarried is around 8000 Dollars. Maximum number of Purchase are made between 5000 and 12000 Dollars."
   ]
  },
  {
   "cell_type": "markdown",
   "metadata": {},
   "source": [
    "Question How is purchase affected by Product_Category?"
   ]
  },
  {
   "cell_type": "code",
   "execution_count": 37,
   "metadata": {},
   "outputs": [
    {
     "data": {
      "text/plain": [
       "<Axes: xlabel='Product_Category', ylabel='Purchase'>"
      ]
     },
     "execution_count": 37,
     "metadata": {},
     "output_type": "execute_result"
    },
    {
     "data": {
      "image/png": "[encoded data removed]",
      "text/plain": [
       "<Figure size 640x480 with 1 Axes>"
      ]
     },
     "metadata": {},
     "output_type": "display_data"
    }
   ],
   "source": [
    "sns.barplot(data=df, x=\"Product_Category\", y=\"Purchase\")"
   ]
  },
  {
   "cell_type": "markdown",
   "metadata": {},
   "source": [
    "#### Insight"
   ]
  },
  {
   "cell_type": "markdown",
   "metadata": {},
   "source": [
    "Maximum revenue is generated by Product Category 10, and least revenue is generated by product category 19."
   ]
  },
  {
   "cell_type": "markdown",
   "metadata": {},
   "source": [
    "##### Corelation between Quantities"
   ]
  },
  {
   "cell_type": "code",
   "execution_count": 15,
   "metadata": {},
   "outputs": [],
   "source": [
    "df1=df.drop(['Product_ID', 'Gender', 'Age','City_Category',\n",
    "       'Stay_In_Current_City_Years', 'Marital_Status'], axis=1)"
   ]
  },
  {
   "cell_type": "code",
   "execution_count": 16,
   "metadata": {},
   "outputs": [
    {
     "data": {
      "text/html": [
       "<div>\n",
       "<style scoped>\n",
       "    .dataframe tbody tr th:only-of-type {\n",
       "        vertical-align: middle;\n",
       "    }\n",
       "\n",
       "    .dataframe tbody tr th {\n",
       "        vertical-align: top;\n",
       "    }\n",
       "\n",
       "    .dataframe thead th {\n",
       "        text-align: right;\n",
       "    }\n",
       "</style>\n",
       "<table border=\"1\" class=\"dataframe\">\n",
       "  <thead>\n",
       "    <tr style=\"text-align: right;\">\n",
       "      <th></th>\n",
       "      <th>User_ID</th>\n",
       "      <th>Occupation</th>\n",
       "      <th>Product_Category</th>\n",
       "      <th>Purchase</th>\n",
       "    </tr>\n",
       "  </thead>\n",
       "  <tbody>\n",
       "    <tr>\n",
       "      <th>User_ID</th>\n",
       "      <td>1.000000</td>\n",
       "      <td>-0.023971</td>\n",
       "      <td>0.003825</td>\n",
       "      <td>0.004716</td>\n",
       "    </tr>\n",
       "    <tr>\n",
       "      <th>Occupation</th>\n",
       "      <td>-0.023971</td>\n",
       "      <td>1.000000</td>\n",
       "      <td>-0.007618</td>\n",
       "      <td>0.020833</td>\n",
       "    </tr>\n",
       "    <tr>\n",
       "      <th>Product_Category</th>\n",
       "      <td>0.003825</td>\n",
       "      <td>-0.007618</td>\n",
       "      <td>1.000000</td>\n",
       "      <td>-0.343703</td>\n",
       "    </tr>\n",
       "    <tr>\n",
       "      <th>Purchase</th>\n",
       "      <td>0.004716</td>\n",
       "      <td>0.020833</td>\n",
       "      <td>-0.343703</td>\n",
       "      <td>1.000000</td>\n",
       "    </tr>\n",
       "  </tbody>\n",
       "</table>\n",
       "</div>"
      ],
      "text/plain": [
       "                   User_ID  Occupation  Product_Category  Purchase\n",
       "User_ID           1.000000   -0.023971          0.003825  0.004716\n",
       "Occupation       -0.023971    1.000000         -0.007618  0.020833\n",
       "Product_Category  0.003825   -0.007618          1.000000 -0.343703\n",
       "Purchase          0.004716    0.020833         -0.343703  1.000000"
      ]
     },
     "execution_count": 16,
     "metadata": {},
     "output_type": "execute_result"
    }
   ],
   "source": [
    "df1.corr()"
   ]
  },
  {
   "cell_type": "code",
   "execution_count": 17,
   "metadata": {},
   "outputs": [
    {
     "data": {
      "text/plain": [
       "<Axes: >"
      ]
     },
     "execution_count": 17,
     "metadata": {},
     "output_type": "execute_result"
    },
    {
     "data": {
      "image/png": "[encoded data removed]",
      "text/plain": [
       "<Figure size 640x480 with 2 Axes>"
      ]
     },
     "metadata": {},
     "output_type": "display_data"
    }
   ],
   "source": [
    "sns.heatmap(df1.corr(),annot=True,cmap=\"Blues\",linewidths=1.0,linecolor=\"green\")"
   ]
  },
  {
   "cell_type": "markdown",
   "metadata": {},
   "source": [
    "##### Insight"
   ]
  },
  {
   "cell_type": "markdown",
   "metadata": {},
   "source": [
    "1. We don’t see a strong correlation of purchase with any feature.\n",
    "2. There’s a weak negative correlation between product category and purchase amount.\n"
   ]
  },
  {
   "cell_type": "markdown",
   "metadata": {},
   "source": [
    "#### Outlier Detection"
   ]
  },
  {
   "cell_type": "markdown",
   "metadata": {},
   "source": [
    "Occcupation"
   ]
  },
  {
   "cell_type": "code",
   "execution_count": 87,
   "metadata": {},
   "outputs": [
    {
     "data": {
      "text/plain": [
       "<Axes: >"
      ]
     },
     "execution_count": 87,
     "metadata": {},
     "output_type": "execute_result"
    },
    {
     "data": {
      "image/png": "[encoded data removed]",
      "text/plain": [
       "<Figure size 640x480 with 1 Axes>"
      ]
     },
     "metadata": {},
     "output_type": "display_data"
    }
   ],
   "source": [
    "sns.boxplot(df[\"Occupation\"])"
   ]
  },
  {
   "cell_type": "markdown",
   "metadata": {},
   "source": [
    "Product_Category"
   ]
  },
  {
   "cell_type": "code",
   "execution_count": 8,
   "metadata": {},
   "outputs": [
    {
     "data": {
      "text/plain": [
       "<Axes: >"
      ]
     },
     "execution_count": 8,
     "metadata": {},
     "output_type": "execute_result"
    },
    {
     "data": {
      "image/png": "[encoded data removed]",
      "text/plain": [
       "<Figure size 640x480 with 1 Axes>"
      ]
     },
     "metadata": {},
     "output_type": "display_data"
    }
   ],
   "source": [
    "sns.boxplot(df[\"Product_Category\"])\n"
   ]
  },
  {
   "cell_type": "markdown",
   "metadata": {},
   "source": [
    "Purchase"
   ]
  },
  {
   "cell_type": "code",
   "execution_count": 9,
   "metadata": {},
   "outputs": [
    {
     "data": {
      "text/plain": [
       "<Axes: >"
      ]
     },
     "execution_count": 9,
     "metadata": {},
     "output_type": "execute_result"
    },
    {
     "data": {
      "image/png": "[encoded data removed]",
      "text/plain": [
       "<Figure size 640x480 with 1 Axes>"
      ]
     },
     "metadata": {},
     "output_type": "display_data"
    }
   ],
   "source": [
    "sns.boxplot(df[\"Purchase\"])"
   ]
  },
  {
   "cell_type": "markdown",
   "metadata": {},
   "source": [
    "##### Insight"
   ]
  },
  {
   "cell_type": "markdown",
   "metadata": {},
   "source": [
    "Purchase and Product_category has outliers and Occuoation doesnot have outliers."
   ]
  },
  {
   "cell_type": "markdown",
   "metadata": {},
   "source": [
    "#### Are women spending more money per transaction than men? Why or Why not?"
   ]
  },
  {
   "cell_type": "code",
   "execution_count": 96,
   "metadata": {},
   "outputs": [],
   "source": [
    "df_m=df.loc[df[\"Gender\"]==\"M\",'Purchase']\n",
    "df_f=df.loc[df[\"Gender\"]==\"F\",'Purchase']"
   ]
  },
  {
   "cell_type": "code",
   "execution_count": 90,
   "metadata": {},
   "outputs": [
    {
     "data": {
      "text/plain": [
       "9437.526040472265"
      ]
     },
     "execution_count": 90,
     "metadata": {},
     "output_type": "execute_result"
    }
   ],
   "source": [
    "df_m.mean()"
   ]
  },
  {
   "cell_type": "code",
   "execution_count": 91,
   "metadata": {},
   "outputs": [
    {
     "data": {
      "text/plain": [
       "8734.565765155476"
      ]
     },
     "execution_count": 91,
     "metadata": {},
     "output_type": "execute_result"
    }
   ],
   "source": [
    "df_f.mean()"
   ]
  },
  {
   "cell_type": "code",
   "execution_count": 93,
   "metadata": {},
   "outputs": [
    {
     "data": {
      "text/plain": [
       "<Axes: xlabel='Purchase', ylabel='Count'>"
      ]
     },
     "execution_count": 93,
     "metadata": {},
     "output_type": "execute_result"
    },
    {
     "data": {
      "image/png": "[encoded data removed]",
      "text/plain": [
       "<Figure size 1000x600 with 1 Axes>"
      ]
     },
     "metadata": {},
     "output_type": "display_data"
    }
   ],
   "source": [
    "plt.figure(figsize=(10,6))\n",
    "sns.histplot(data=df_m,kde=True, color=\"tomato\")"
   ]
  },
  {
   "cell_type": "code",
   "execution_count": 94,
   "metadata": {},
   "outputs": [
    {
     "data": {
      "text/plain": [
       "<Axes: xlabel='Purchase', ylabel='Count'>"
      ]
     },
     "execution_count": 94,
     "metadata": {},
     "output_type": "execute_result"
    },
    {
     "data": {
      "image/png": "[encoded data removed]",
      "text/plain": [
       "<Figure size 1000x600 with 1 Axes>"
      ]
     },
     "metadata": {},
     "output_type": "display_data"
    }
   ],
   "source": [
    "plt.figure(figsize=(10,6))\n",
    "sns.histplot(data=df_f,kde=True, color=\"c\")"
   ]
  },
  {
   "cell_type": "code",
   "execution_count": 100,
   "metadata": {},
   "outputs": [
    {
     "data": {
      "text/plain": [
       "0    0.593614\n",
       "1    0.406386\n",
       "Name: Marital_Status, dtype: float64"
      ]
     },
     "execution_count": 100,
     "metadata": {},
     "output_type": "execute_result"
    }
   ],
   "source": [
    "df.loc[df[\"Gender\"]==\"M\",'Marital_Status'].value_counts(normalize=True)"
   ]
  },
  {
   "cell_type": "code",
   "execution_count": 101,
   "metadata": {},
   "outputs": [
    {
     "data": {
      "text/plain": [
       "0    0.580381\n",
       "1    0.419619\n",
       "Name: Marital_Status, dtype: float64"
      ]
     },
     "execution_count": 101,
     "metadata": {},
     "output_type": "execute_result"
    }
   ],
   "source": [
    "df.loc[df[\"Gender\"]==\"F\",'Marital_Status'].value_counts(normalize=True)"
   ]
  },
  {
   "cell_type": "code",
   "execution_count": 112,
   "metadata": {},
   "outputs": [
    {
     "data": {
      "text/plain": [
       "P00265242    1372\n",
       "P00025442    1267\n",
       "P00110742    1247\n",
       "P00112142    1223\n",
       "P00057642    1212\n",
       "             ... \n",
       "P00340742       1\n",
       "P00306942       1\n",
       "P00144142       1\n",
       "P00065542       1\n",
       "P00203742       1\n",
       "Name: Product_ID, Length: 3588, dtype: int64"
      ]
     },
     "execution_count": 112,
     "metadata": {},
     "output_type": "execute_result"
    }
   ],
   "source": [
    "df.loc[df[\"Gender\"]==\"M\",'Product_ID'].value_counts()"
   ]
  },
  {
   "cell_type": "code",
   "execution_count": 113,
   "metadata": {},
   "outputs": [
    {
     "data": {
      "text/plain": [
       "P00265242    508\n",
       "P00220442    440\n",
       "P00058042    387\n",
       "P00255842    375\n",
       "P00110742    365\n",
       "            ... \n",
       "P00245742      1\n",
       "P00229142      1\n",
       "P00310942      1\n",
       "P00225242      1\n",
       "P00271642      1\n",
       "Name: Product_ID, Length: 3367, dtype: int64"
      ]
     },
     "execution_count": 113,
     "metadata": {},
     "output_type": "execute_result"
    }
   ],
   "source": [
    "df.loc[df[\"Gender\"]==\"F\",'Product_ID'].value_counts()"
   ]
  },
  {
   "cell_type": "code",
   "execution_count": 121,
   "metadata": {},
   "outputs": [
    {
     "data": {
      "text/plain": [
       "1     27.892454\n",
       "5     26.305282\n",
       "8     19.400182\n",
       "11     4.718787\n",
       "2      4.394835\n",
       "6      3.839868\n",
       "3      3.429497\n",
       "4      1.958678\n",
       "16     1.792598\n",
       "15     1.265875\n",
       "13     0.986581\n",
       "10     0.956648\n",
       "7      0.670595\n",
       "18     0.662146\n",
       "12     0.582969\n",
       "20     0.441028\n",
       "19     0.278087\n",
       "14     0.217255\n",
       "17     0.124560\n",
       "9      0.082074\n",
       "Name: Product_Category, dtype: float64"
      ]
     },
     "execution_count": 121,
     "metadata": {},
     "output_type": "execute_result"
    }
   ],
   "source": [
    "df.loc[df[\"Gender\"]==\"M\",'Product_Category'].value_counts(normalize=True)*100"
   ]
  },
  {
   "cell_type": "code",
   "execution_count": 122,
   "metadata": {},
   "outputs": [
    {
     "data": {
      "text/plain": [
       "5     30.897069\n",
       "8     24.709703\n",
       "1     18.283766\n",
       "3      4.422387\n",
       "2      4.166145\n",
       "11     3.489459\n",
       "6      3.356920\n",
       "4      2.679498\n",
       "16     1.768660\n",
       "12     1.128055\n",
       "13     1.076512\n",
       "10     0.855613\n",
       "15     0.770199\n",
       "7      0.694358\n",
       "20     0.532365\n",
       "14     0.458732\n",
       "19     0.332084\n",
       "18     0.281277\n",
       "9      0.051543\n",
       "17     0.045652\n",
       "Name: Product_Category, dtype: float64"
      ]
     },
     "execution_count": 122,
     "metadata": {},
     "output_type": "execute_result"
    }
   ],
   "source": [
    "df.loc[df[\"Gender\"]==\"F\",'Product_Category'].value_counts(normalize=True)*100"
   ]
  },
  {
   "cell_type": "markdown",
   "metadata": {},
   "source": [
    "### Insights"
   ]
  },
  {
   "cell_type": "markdown",
   "metadata": {},
   "source": [
    " Average amount spent by males is 9437.526040472265 and Average amount spent by females is 8734.565765155476\n",
    " \n",
    " \n",
    " Most Revenue generating Product_Categories are 10,7,6,9,15,16,1,2,3 and 17\n",
    " 1. From category 10, 0.95% males purchased and 0.85% females purchased.\n",
    " 2. From category 6,  3.83% males Purchased and 3.35% females purchased.\n",
    " 3. From category 9,  0.08% males Purchased and 0.04% females purchased.\n",
    " 4. From category 15, 1.26% males Purchased and 0.77% females purchased.\n",
    " 5. From category 16, 1.79% males Purchased and 1.76% females purchased.\n",
    " 6. From category 1, 27.89% males Purchased and 18.28% females purchased.\n",
    " 7. From category 2,  4.39% males Purchased and 4.16% females purchased.\n",
    " 8. From category 3,  3.42% males Purchased and 4.42% females purchased.\n",
    " 9. From category 7,  0.67% males Purchased and 0.69% females purchased.\n",
    " 10. From category 17,  0.124% males Purchased and 0.045% females purchased.\n",
    " \n",
    " So, we can say that women are not spending more money per transaction than men because the most revenue generating Product_Categories are more Popular with men."
   ]
  },
  {
   "cell_type": "markdown",
   "metadata": {},
   "source": [
    "##### Central limit Theorem"
   ]
  },
  {
   "cell_type": "markdown",
   "metadata": {},
   "source": [
    "#### Confidance Intervals For Males and Females"
   ]
  },
  {
   "cell_type": "code",
   "execution_count": 31,
   "metadata": {},
   "outputs": [],
   "source": [
    "df_m=df.loc[df[\"Gender\"]==\"M\",'Purchase']"
   ]
  },
  {
   "cell_type": "code",
   "execution_count": 32,
   "metadata": {},
   "outputs": [
    {
     "data": {
      "text/plain": [
       "4          7969\n",
       "5         15227\n",
       "6         19215\n",
       "7         15854\n",
       "8         15686\n",
       "          ...  \n",
       "550057       61\n",
       "550058      121\n",
       "550060      494\n",
       "550062      473\n",
       "550063      368\n",
       "Name: Purchase, Length: 414259, dtype: int64"
      ]
     },
     "execution_count": 32,
     "metadata": {},
     "output_type": "execute_result"
    }
   ],
   "source": [
    "df_m"
   ]
  },
  {
   "cell_type": "code",
   "execution_count": 33,
   "metadata": {},
   "outputs": [],
   "source": [
    "df_f=df.loc[df[\"Gender\"]==\"F\",'Purchase']"
   ]
  },
  {
   "cell_type": "code",
   "execution_count": 34,
   "metadata": {},
   "outputs": [
    {
     "data": {
      "text/plain": [
       "0          8370\n",
       "1         15200\n",
       "2          1422\n",
       "3          1057\n",
       "14         5378\n",
       "          ...  \n",
       "550061      599\n",
       "550064      371\n",
       "550065      137\n",
       "550066      365\n",
       "550067      490\n",
       "Name: Purchase, Length: 135809, dtype: int64"
      ]
     },
     "execution_count": 34,
     "metadata": {},
     "output_type": "execute_result"
    }
   ],
   "source": [
    "df_f"
   ]
  },
  {
   "cell_type": "code",
   "execution_count": 40,
   "metadata": {},
   "outputs": [
    {
     "name": "stdout",
     "output_type": "stream",
     "text": [
      "for size 4\n",
      "99% CI  for males is [ 7337.992135156855 , 16528.507864843144 ]\n",
      "99% CI for females is [ 3902.8605272812783 , 22721.63947271872 ]\n",
      "for size 40\n",
      "99% CI  for males is [ 8541.357774291193 , 11707.942225708806 ]\n",
      "99% CI for females is [ 7126.644871888975 , 11098.155128111024 ]\n",
      "for size 400\n",
      "99% CI  for males is [ 8869.42019979316 , 10153.854800206842 ]\n",
      "99% CI for females is [ 7940.941006241492 , 9164.213993758507 ]\n",
      "for size 4000\n",
      "99% CI  for males is [ 9186.037615066614 , 9594.741884933386 ]\n",
      "99% CI for females is [ 8633.661029689933 , 9028.004970310069 ]\n",
      "for size 40000\n",
      "99% CI  for males is [ 9392.542603943082 , 9523.617996056917 ]\n",
      "99% CI for females is [ 8665.75621105304 , 8788.32288894696 ]\n",
      "for size 100000\n",
      "99% CI  for males is [ 9415.27066380498 , 9498.24167619502 ]\n",
      "99% CI for females is [ 8694.03636301907 , 8771.757516980932 ]\n"
     ]
    }
   ],
   "source": [
    "# 99% CI for different Sample Sizes\n",
    "for n in [4,40,400,4000,40000,100000]:\n",
    "    print(\"for size\", n)\n",
    "    samp1 = df_m.sample(n)\n",
    "    m=samp1.mean()\n",
    "    s = samp1.std()\n",
    "    se = s / np.sqrt(n)\n",
    "    z_left = norm.ppf(0.005)\n",
    "    z_right = norm.ppf(0.995)\n",
    "    x1 = m + (z_left*se)\n",
    "    x2 = m + (z_right*se)\n",
    "    print(\"99% CI  for males is [\", x1,\",\",x2,\"]\")\n",
    "    \n",
    "    samp2 = df_f.sample(n)\n",
    "    m=samp2.mean()\n",
    "    s = samp2.std()\n",
    "    se = s / np.sqrt(n)\n",
    "    z_left = norm.ppf(0.005)\n",
    "    z_right = norm.ppf(0.995)\n",
    "    x1 = m + (z_left*se)\n",
    "    x2 = m + (z_right*se)\n",
    "    print(\"99% CI for females is [\", x1,\",\",x2,\"]\")\n",
    "\n"
   ]
  },
  {
   "cell_type": "code",
   "execution_count": 41,
   "metadata": {},
   "outputs": [
    {
     "name": "stdout",
     "output_type": "stream",
     "text": [
      "for size 4\n",
      "95% CI  for males is [ 4457.169781375145 , 11504.330218624855 ]\n",
      "95% CI for females is [ 3882.6663716068424 , 13692.333628393157 ]\n",
      "for size 40\n",
      "95% CI  for males is [ 8604.124287063734 , 11338.225712936264 ]\n",
      "95% CI for females is [ 7485.558872484365 , 10971.441127515634 ]\n",
      "for size 400\n",
      "95% CI  for males is [ 9296.646147528618 , 10254.758852471381 ]\n",
      "95% CI for females is [ 8629.60760063329 , 9607.167399366712 ]\n",
      "for size 4000\n",
      "95% CI  for males is [ 9301.24631452262 , 9615.614685477381 ]\n",
      "95% CI for females is [ 8631.238304174349 , 8929.65069582565 ]\n",
      "for size 40000\n",
      "95% CI  for males is [ 9370.680312679737 , 9470.129437320264 ]\n",
      "95% CI for females is [ 8686.332653978017 , 8780.279496021984 ]\n",
      "for size 100000\n",
      "95% CI  for males is [ 9394.336485850637 , 9457.411014149364 ]\n",
      "95% CI for females is [ 8722.22202311973 , 8781.39519688027 ]\n"
     ]
    }
   ],
   "source": [
    "# 95% CI for different Sample Sizes\n",
    "for n in [4,40,400,4000,40000,100000]:\n",
    "    print(\"for size\", n)\n",
    "    samp1 = df_m.sample(n)\n",
    "    m=samp1.mean()\n",
    "    s = samp1.std()\n",
    "    se = s / np.sqrt(n)\n",
    "    z_left = norm.ppf(0.025)\n",
    "    z_right = norm.ppf(0.975)\n",
    "    x1 = m + (z_left*se)\n",
    "    x2 = m + (z_right*se)\n",
    "    print(\"95% CI  for males is [\", x1,\",\",x2,\"]\")\n",
    "    \n",
    "    samp2 = df_f.sample(n)\n",
    "    m=samp2.mean()\n",
    "    s = samp2.std()\n",
    "    se = s / np.sqrt(n)\n",
    "    z_left = norm.ppf(0.025)\n",
    "    z_right = norm.ppf(0.975)\n",
    "    x1 = m + (z_left*se)\n",
    "    x2 = m + (z_right*se)\n",
    "    print(\"95% CI for females is [\", x1,\",\",x2,\"]\")"
   ]
  },
  {
   "cell_type": "code",
   "execution_count": 42,
   "metadata": {},
   "outputs": [
    {
     "name": "stdout",
     "output_type": "stream",
     "text": [
      "for size 4\n",
      "90% CI  for males is [ 7997.661792617616 , 17122.33820738238 ]\n",
      "90% CI for females is [ 3588.836453242746 , 6587.163546757253 ]\n",
      "for size 40\n",
      "90% CI  for males is [ 8185.909996267755 , 11309.240003732246 ]\n",
      "90% CI for females is [ 8001.278382122067 , 10742.371617877934 ]\n",
      "for size 400\n",
      "90% CI  for males is [ 9040.176302017662 , 9893.963697982337 ]\n",
      "90% CI for females is [ 8519.097221235672 , 9292.282778764327 ]\n",
      "for size 4000\n",
      "90% CI  for males is [ 9187.82606671888 , 9451.95443328112 ]\n",
      "90% CI for females is [ 8620.828852494426 , 8867.746647505573 ]\n",
      "for size 40000\n",
      "90% CI  for males is [ 9395.802847279463 , 9479.354052720539 ]\n",
      "90% CI for females is [ 8680.265786212063 , 8758.744913787936 ]\n",
      "for size 100000\n",
      "90% CI  for males is [ 9409.591014254602 , 9462.5597257454 ]\n",
      "90% CI for females is [ 8706.807360806819 , 8756.503519193182 ]\n"
     ]
    }
   ],
   "source": [
    "# 90% CI for different Sample Sizes\n",
    "for n in [4,40,400,4000,40000,100000]:\n",
    "    print(\"for size\", n)\n",
    "    samp1 = df_m.sample(n)\n",
    "    m=samp1.mean()\n",
    "    s = samp1.std()\n",
    "    se = s / np.sqrt(n)\n",
    "    z_left = norm.ppf(0.05)\n",
    "    z_right = norm.ppf(0.95)\n",
    "    x1 = m + (z_left*se)\n",
    "    x2 = m + (z_right*se)\n",
    "    print(\"90% CI  for males is [\", x1,\",\",x2,\"]\")\n",
    "    \n",
    "    samp2 = df_f.sample(n)\n",
    "    m=samp2.mean()\n",
    "    s = samp2.std()\n",
    "    se = s / np.sqrt(n)\n",
    "    z_left = norm.ppf(0.05)\n",
    "    z_right = norm.ppf(0.95)\n",
    "    x1 = m + (z_left*se)\n",
    "    x2 = m + (z_right*se)\n",
    "    print(\"90% CI for females is [\", x1,\",\",x2,\"]\")"
   ]
  },
  {
   "cell_type": "markdown",
   "metadata": {},
   "source": [
    "##### Insights"
   ]
  },
  {
   "cell_type": "markdown",
   "metadata": {},
   "source": [
    "For 99% Confidence Interval\n",
    "As the sample size increases, the two groups start to become distinct\n",
    "\n",
    "For Female (sample size 100000) range for mean purchase with confidence interval 99% is [[8694.03636301907 , 8771.757516980932]\n",
    "\n",
    "For Male range for mean purchase with confidence interval 99% is [9415.27066380498 , 9498.24167619502 ] ]\n"
   ]
  },
  {
   "cell_type": "markdown",
   "metadata": {},
   "source": [
    "For 95% Confidence Interval\n",
    "As the sample size increases, the two groups start to become distinct\n",
    "\n",
    "For Female (sample size 100000) range for mean purchase with confidence interval 95% [ 8722.22202311973 , 8781.39519688027 ]\n",
    "\n",
    "For Male range for mean purchase with confidence interval 95% is [9394.336485850637 , 9457.411014149364]"
   ]
  },
  {
   "cell_type": "markdown",
   "metadata": {},
   "source": [
    "For 90% Confidence Interval As the sample size increases, the two groups start to become distinct\n",
    "\n",
    "For Female (sample size 100000) range for mean purchase with confidence interval 90% [  8706.807360806819 , 8756.503519193182]\n",
    "\n",
    "For Male range for mean purchase with confidence interval 95% is [9409.591014254602 , 9462.5597257454]"
   ]
  },
  {
   "cell_type": "markdown",
   "metadata": {},
   "source": [
    "#### Confidance Intervals for Married vs Non Married"
   ]
  },
  {
   "cell_type": "code",
   "execution_count": 46,
   "metadata": {},
   "outputs": [],
   "source": [
    "df_married=df.loc[df[\"Marital_Status\"]==1,'Purchase']"
   ]
  },
  {
   "cell_type": "code",
   "execution_count": 49,
   "metadata": {},
   "outputs": [],
   "source": [
    "df_unmarried=df.loc[df[\"Marital_Status\"]==0,'Purchase']"
   ]
  },
  {
   "cell_type": "code",
   "execution_count": 47,
   "metadata": {},
   "outputs": [
    {
     "data": {
      "text/plain": [
       "6         19215\n",
       "7         15854\n",
       "8         15686\n",
       "9          7871\n",
       "10         5254\n",
       "          ...  \n",
       "550060      494\n",
       "550061      599\n",
       "550063      368\n",
       "550065      137\n",
       "550067      490\n",
       "Name: Purchase, Length: 225337, dtype: int64"
      ]
     },
     "execution_count": 47,
     "metadata": {},
     "output_type": "execute_result"
    }
   ],
   "source": [
    "df_married"
   ]
  },
  {
   "cell_type": "code",
   "execution_count": 50,
   "metadata": {},
   "outputs": [
    {
     "data": {
      "text/plain": [
       "0          8370\n",
       "1         15200\n",
       "2          1422\n",
       "3          1057\n",
       "4          7969\n",
       "          ...  \n",
       "550056      254\n",
       "550059       48\n",
       "550062      473\n",
       "550064      371\n",
       "550066      365\n",
       "Name: Purchase, Length: 324731, dtype: int64"
      ]
     },
     "execution_count": 50,
     "metadata": {},
     "output_type": "execute_result"
    }
   ],
   "source": [
    "df_unmarried"
   ]
  },
  {
   "cell_type": "code",
   "execution_count": 51,
   "metadata": {},
   "outputs": [
    {
     "name": "stdout",
     "output_type": "stream",
     "text": [
      "for size 4\n",
      "99% CI  for married people is [ 79.09438786639475 , 18386.905612133603 ]\n",
      "99% CI for unmarried people is [ 2650.579771648195 , 8185.920228351804 ]\n",
      "for size 40\n",
      "99% CI  for married people is [ 6593.003378602711 , 10460.24662139729 ]\n",
      "99% CI for unmarried people is [ 6128.253473086118 , 9871.596526913881 ]\n",
      "for size 400\n",
      "99% CI  for married people is [ 8588.138544760663 , 9914.471455239338 ]\n",
      "99% CI for unmarried people is [ 8389.361851673211 , 9631.348148326788 ]\n",
      "for size 4000\n",
      "99% CI  for married people is [ 9095.844962768084 , 9508.352537231915 ]\n",
      "99% CI for unmarried people is [ 9003.945025642051 , 9416.82897435795 ]\n",
      "for size 40000\n",
      "99% CI  for married people is [ 9204.464138989199 , 9333.5797110108 ]\n",
      "99% CI for unmarried people is [ 9177.559291456862 , 9306.99565854314 ]\n",
      "for size 100000\n",
      "99% CI  for married people is [ 9212.681948578966 , 9294.357831421034 ]\n",
      "99% CI for unmarried people is [ 9218.26964923683 , 9300.144430763168 ]\n"
     ]
    }
   ],
   "source": [
    "# 99% CI for different Sample Sizes\n",
    "for n in [4,40,400,4000,40000,100000]:\n",
    "    print(\"for size\", n)\n",
    "    samp1 = df_married.sample(n)\n",
    "    m=samp1.mean()\n",
    "    s = samp1.std()\n",
    "    se = s / np.sqrt(n)\n",
    "    z_left = norm.ppf(0.005)\n",
    "    z_right = norm.ppf(0.995)\n",
    "    x1 = m + (z_left*se)\n",
    "    x2 = m + (z_right*se)\n",
    "    print(\"99% CI  for married people is [\", x1,\",\",x2,\"]\")\n",
    "    \n",
    "    samp2 = df_unmarried.sample(n)\n",
    "    m=samp2.mean()\n",
    "    s = samp2.std()\n",
    "    se = s / np.sqrt(n)\n",
    "    z_left = norm.ppf(0.005)\n",
    "    z_right = norm.ppf(0.995)\n",
    "    x1 = m + (z_left*se)\n",
    "    x2 = m + (z_right*se)\n",
    "    print(\"99% CI for unmarried people is [\", x1,\",\",x2,\"]\")\n",
    "\n"
   ]
  },
  {
   "cell_type": "code",
   "execution_count": 52,
   "metadata": {},
   "outputs": [
    {
     "name": "stdout",
     "output_type": "stream",
     "text": [
      "for size 4\n",
      "95% CI  for married people is [ 3449.589926391164 , 13864.410073608835 ]\n",
      "95% CI for unmarried people is [ 6847.541665359452 , 12240.958334640547 ]\n",
      "for size 40\n",
      "95% CI  for married people is [ 8761.594626031072 , 11631.755373968927 ]\n",
      "95% CI for unmarried people is [ 7923.539749393296 , 11020.510250606701 ]\n",
      "for size 400\n",
      "95% CI  for married people is [ 8661.096869378625 , 9636.843130621373 ]\n",
      "95% CI for unmarried people is [ 8791.377093439383 , 9802.322906560617 ]\n",
      "for size 4000\n",
      "95% CI  for married people is [ 9188.216906088726 , 9495.711093911274 ]\n",
      "95% CI for unmarried people is [ 9016.031183383104 , 9325.359816616896 ]\n",
      "for size 40000\n",
      "95% CI  for married people is [ 9216.574348779983 , 9314.832701220019 ]\n",
      "95% CI for unmarried people is [ 9183.649283404415 , 9281.844416595584 ]\n",
      "for size 100000\n",
      "95% CI  for married people is [ 9230.278132427455 , 9292.558247572546 ]\n",
      "95% CI for unmarried people is [ 9252.627271299076 , 9315.058568700922 ]\n"
     ]
    }
   ],
   "source": [
    "# 95% CI for different Sample Sizes\n",
    "for n in [4,40,400,4000,40000,100000]:\n",
    "    print(\"for size\", n)\n",
    "    samp1 = df_married.sample(n)\n",
    "    m=samp1.mean()\n",
    "    s = samp1.std()\n",
    "    se = s / np.sqrt(n)\n",
    "    z_left = norm.ppf(0.025)\n",
    "    z_right = norm.ppf(0.975)\n",
    "    x1 = m + (z_left*se)\n",
    "    x2 = m + (z_right*se)\n",
    "    print(\"95% CI  for married people is [\", x1,\",\",x2,\"]\")\n",
    "    \n",
    "    samp2 = df_unmarried.sample(n)\n",
    "    m=samp2.mean()\n",
    "    s = samp2.std()\n",
    "    se = s / np.sqrt(n)\n",
    "    z_left = norm.ppf(0.025)\n",
    "    z_right = norm.ppf(0.975)\n",
    "    x1 = m + (z_left*se)\n",
    "    x2 = m + (z_right*se)\n",
    "    print(\"95% CI for unmarried people is [\", x1,\",\",x2,\"]\")\n"
   ]
  },
  {
   "cell_type": "code",
   "execution_count": 53,
   "metadata": {},
   "outputs": [
    {
     "name": "stdout",
     "output_type": "stream",
     "text": [
      "for size 4\n",
      "90% CI  for married people is [ 2683.560338589073 , 8204.939661410925 ]\n",
      "90% CI for unmarried people is [ 3088.35676797233 , 14870.143232027667 ]\n",
      "for size 40\n",
      "90% CI  for married people is [ 10212.220775522204 , 12593.229224477796 ]\n",
      "90% CI for unmarried people is [ 6566.7311386818255 , 8873.068861318174 ]\n",
      "for size 400\n",
      "90% CI  for married people is [ 9048.33359900659 , 9878.21640099341 ]\n",
      "90% CI for unmarried people is [ 8404.86145593835 , 9188.378544061652 ]\n",
      "for size 4000\n",
      "90% CI  for married people is [ 9128.504731230183 , 9389.249768769816 ]\n",
      "90% CI for unmarried people is [ 9206.782659500175 , 9469.894840499826 ]\n",
      "for size 40000\n",
      "90% CI  for married people is [ 9248.63951911415 , 9331.646880885852 ]\n",
      "90% CI for unmarried people is [ 9235.156944698445 , 9317.737105301554 ]\n",
      "for size 100000\n",
      "90% CI  for married people is [ 9246.626434028321 , 9298.985345971678 ]\n",
      "90% CI for unmarried people is [ 9254.299983143881 , 9306.56909685612 ]\n"
     ]
    }
   ],
   "source": [
    "# 90% CI for different Sample Sizes\n",
    "for n in [4,40,400,4000,40000,100000]:\n",
    "    print(\"for size\", n)\n",
    "    samp1 = df_married.sample(n)\n",
    "    m=samp1.mean()\n",
    "    s = samp1.std()\n",
    "    se = s / np.sqrt(n)\n",
    "    z_left = norm.ppf(0.05)\n",
    "    z_right = norm.ppf(0.95)\n",
    "    x1 = m + (z_left*se)\n",
    "    x2 = m + (z_right*se)\n",
    "    print(\"90% CI  for married people is [\", x1,\",\",x2,\"]\")\n",
    "    \n",
    "    samp2 = df_unmarried.sample(n)\n",
    "    m=samp2.mean()\n",
    "    s = samp2.std()\n",
    "    se = s / np.sqrt(n)\n",
    "    z_left = norm.ppf(0.05)\n",
    "    z_right = norm.ppf(0.95)\n",
    "    x1 = m + (z_left*se)\n",
    "    x2 = m + (z_right*se)\n",
    "    print(\"90% CI for unmarried people is [\", x1,\",\",x2,\"]\")"
   ]
  },
  {
   "cell_type": "markdown",
   "metadata": {},
   "source": [
    "##### Insights"
   ]
  },
  {
   "cell_type": "markdown",
   "metadata": {},
   "source": [
    "Overlapping is evident for married vs single customer spend even when more samples are analyzed, which indicates that customers spend the same regardless of whether they are single or married.\n",
    "\n",
    "For Unmarried customer (sample size 100000) range for mean purchase with confidence interval 99% is [9218.26964923683 , 9300.144430763168 ],\n",
    "with confidence interval 95% is [9252.627271299076 , 9315.058568700922],\n",
    "with confidence interval 90% is [9254.299983143881 , 9306.56909685612].\n"
   ]
  },
  {
   "cell_type": "markdown",
   "metadata": {},
   "source": [
    "For married customer range for mean purchase with confidence interval 99% is [9212.681948578966 , 9294.357831421034],\n",
    "with confidence interval 95% is [9230.278132427455 , 9292.558247572546],\n",
    "with confidence interval 90% is [9246.626434028321 , 9298.985345971678]."
   ]
  },
  {
   "cell_type": "markdown",
   "metadata": {},
   "source": [
    "#### Confidance Intervals for Different Ages"
   ]
  },
  {
   "cell_type": "code",
   "execution_count": 54,
   "metadata": {},
   "outputs": [],
   "source": [
    "df_age0_17=df.loc[df[\"Age\"]==\"0-17\",'Purchase']"
   ]
  },
  {
   "cell_type": "code",
   "execution_count": 55,
   "metadata": {},
   "outputs": [
    {
     "data": {
      "text/plain": [
       "0          8370\n",
       "1         15200\n",
       "2          1422\n",
       "3          1057\n",
       "85         7746\n",
       "          ...  \n",
       "549904      256\n",
       "550012       26\n",
       "550024       12\n",
       "550035       61\n",
       "550046      236\n",
       "Name: Purchase, Length: 15102, dtype: int64"
      ]
     },
     "execution_count": 55,
     "metadata": {},
     "output_type": "execute_result"
    }
   ],
   "source": [
    "df_age0_17"
   ]
  },
  {
   "cell_type": "code",
   "execution_count": 57,
   "metadata": {},
   "outputs": [],
   "source": [
    "df_age18_25=df.loc[df[\"Age\"]==\"18-25\",'Purchase']"
   ]
  },
  {
   "cell_type": "code",
   "execution_count": 58,
   "metadata": {},
   "outputs": [
    {
     "data": {
      "text/plain": [
       "70         1780\n",
       "71        10754\n",
       "72         2802\n",
       "73        19473\n",
       "74        19672\n",
       "          ...  \n",
       "550000       14\n",
       "550015      477\n",
       "550017      363\n",
       "550020       36\n",
       "550032      491\n",
       "Name: Purchase, Length: 99660, dtype: int64"
      ]
     },
     "execution_count": 58,
     "metadata": {},
     "output_type": "execute_result"
    }
   ],
   "source": [
    "df_age18_25"
   ]
  },
  {
   "cell_type": "code",
   "execution_count": 59,
   "metadata": {},
   "outputs": [],
   "source": [
    "df_age26_35=df.loc[df[\"Age\"]==\"26-35\",'Purchase']"
   ]
  },
  {
   "cell_type": "code",
   "execution_count": 60,
   "metadata": {},
   "outputs": [
    {
     "data": {
      "text/plain": [
       "5         15227\n",
       "9          7871\n",
       "10         5254\n",
       "11         3957\n",
       "12         6073\n",
       "          ...  \n",
       "550058      121\n",
       "550059       48\n",
       "550061      599\n",
       "550064      371\n",
       "550065      137\n",
       "Name: Purchase, Length: 219587, dtype: int64"
      ]
     },
     "execution_count": 60,
     "metadata": {},
     "output_type": "execute_result"
    }
   ],
   "source": [
    "df_age26_35"
   ]
  },
  {
   "cell_type": "code",
   "execution_count": 61,
   "metadata": {},
   "outputs": [],
   "source": [
    "df_age36_45=df.loc[df[\"Age\"]==\"36-45\",'Purchase']"
   ]
  },
  {
   "cell_type": "code",
   "execution_count": 62,
   "metadata": {},
   "outputs": [
    {
     "data": {
      "text/plain": [
       "18        11788\n",
       "29        16352\n",
       "30         8886\n",
       "31         5875\n",
       "32         8854\n",
       "          ...  \n",
       "550049      473\n",
       "550050      368\n",
       "550053      371\n",
       "550054       60\n",
       "550060      494\n",
       "Name: Purchase, Length: 110013, dtype: int64"
      ]
     },
     "execution_count": 62,
     "metadata": {},
     "output_type": "execute_result"
    }
   ],
   "source": [
    "df_age36_45"
   ]
  },
  {
   "cell_type": "code",
   "execution_count": 63,
   "metadata": {},
   "outputs": [],
   "source": [
    "df_age46_50=df.loc[df[\"Age\"]==\"46-50\",'Purchase']"
   ]
  },
  {
   "cell_type": "code",
   "execution_count": 64,
   "metadata": {},
   "outputs": [
    {
     "data": {
      "text/plain": [
       "6         19215\n",
       "7         15854\n",
       "8         15686\n",
       "52         5839\n",
       "53        15912\n",
       "          ...  \n",
       "550041      488\n",
       "550043       48\n",
       "550052      239\n",
       "550062      473\n",
       "550067      490\n",
       "Name: Purchase, Length: 45701, dtype: int64"
      ]
     },
     "execution_count": 64,
     "metadata": {},
     "output_type": "execute_result"
    }
   ],
   "source": [
    "df_age46_50"
   ]
  },
  {
   "cell_type": "code",
   "execution_count": 65,
   "metadata": {},
   "outputs": [],
   "source": [
    "df_age51_55=df.loc[df[\"Age\"]==\"51-55\",'Purchase']"
   ]
  },
  {
   "cell_type": "code",
   "execution_count": 66,
   "metadata": {},
   "outputs": [
    {
     "data": {
      "text/plain": [
       "14         5378\n",
       "15         2079\n",
       "16        13055\n",
       "17         8851\n",
       "67        15872\n",
       "          ...  \n",
       "549985       24\n",
       "550004       12\n",
       "550037       62\n",
       "550042      243\n",
       "550063      368\n",
       "Name: Purchase, Length: 38501, dtype: int64"
      ]
     },
     "execution_count": 66,
     "metadata": {},
     "output_type": "execute_result"
    }
   ],
   "source": [
    "df_age51_55"
   ]
  },
  {
   "cell_type": "code",
   "execution_count": 67,
   "metadata": {},
   "outputs": [],
   "source": [
    "df_age55=df.loc[df[\"Age\"]==\"55+\",'Purchase']"
   ]
  },
  {
   "cell_type": "code",
   "execution_count": 68,
   "metadata": {},
   "outputs": [
    {
     "data": {
      "text/plain": [
       "4          7969\n",
       "159        8596\n",
       "160        5248\n",
       "161       10592\n",
       "162        3482\n",
       "          ...  \n",
       "549925      121\n",
       "549989       12\n",
       "550008       50\n",
       "550030      376\n",
       "550066      365\n",
       "Name: Purchase, Length: 21504, dtype: int64"
      ]
     },
     "execution_count": 68,
     "metadata": {},
     "output_type": "execute_result"
    }
   ],
   "source": [
    "df_age55"
   ]
  },
  {
   "cell_type": "code",
   "execution_count": 69,
   "metadata": {},
   "outputs": [
    {
     "name": "stdout",
     "output_type": "stream",
     "text": [
      "for size 4\n",
      "99% CI  for teenage people is [ 2739.064931408764 , 15356.435068591236 ]\n",
      "99% CI for people of age between 18 and 25 is [ 970.2063917398282 , 11005.79360826017 ]\n",
      "99% CI for people of age between 26 and 35 is [ 4331.118088857507 , 11046.881911142493 ]\n",
      "99% CI for people of age between 36 and 45 is [ 4418.395124150418 , 11122.604875849582 ]\n",
      "99% CI for people of age between 46 and 50 is [ 1534.3350606351505 , 18099.664939364848 ]\n",
      "99% CI for people of age between 51and 55 is [ 4810.555285644304 , 8079.444714355695 ]\n",
      "99% CI for people of age 55 and more is [ 1780.959568754717 , 10382.540431245281 ]\n",
      "for size 40\n",
      "99% CI  for teenage people is [ 7509.899260366725 , 12102.800739633276 ]\n",
      "99% CI for people of age between 18 and 25 is [ 6842.5010927579815 , 10946.548907242017 ]\n",
      "99% CI for people of age between 26 and 35 is [ 7855.657774923342 , 11867.99222507666 ]\n",
      "99% CI for people of age between 36 and 45 is [ 6608.396324010098 , 10679.553675989902 ]\n",
      "99% CI for people of age between 46 and 50 is [ 6843.85839231824 , 10479.14160768176 ]\n",
      "99% CI for people of age between 51and 55 is [ 6697.379688253856 , 10382.320311746143 ]\n",
      "99% CI for people of age 55 and more is [ 7598.912768811617 , 11711.587231188383 ]\n",
      "for size 400\n",
      "99% CI  for teenage people is [ 8111.186962396297 , 9455.048037603703 ]\n",
      "99% CI for people of age between 18 and 25 is [ 8340.42968846927 , 9615.73531153073 ]\n",
      "99% CI for people of age between 26 and 35 is [ 8876.479544046544 , 10199.160455953455 ]\n",
      "99% CI for people of age between 36 and 45 is [ 8708.330896050182 , 10030.024103949818 ]\n",
      "99% CI for people of age between 46 and 50 is [ 8847.177270436583 , 10150.142729563415 ]\n",
      "99% CI for people of age between 51and 55 is [ 9024.26451608513 , 10343.71548391487 ]\n",
      "99% CI for people of age 55 and more is [ 8376.246228263848 , 9611.238771736153 ]\n",
      "for size 4000\n",
      "99% CI  for teenage people is [ 8717.037570054079 , 9134.64792994592 ]\n",
      "99% CI for people of age between 18 and 25 is [ 9030.943252497154 , 9436.563747502847 ]\n",
      "99% CI for people of age between 26 and 35 is [ 9059.887654819633 , 9468.812345180368 ]\n",
      "99% CI for people of age between 36 and 45 is [ 9292.674723054723 , 9709.779276945279 ]\n",
      "99% CI for people of age between 46 and 50 is [ 8956.83400628193 , 9359.964493718071 ]\n",
      "99% CI for people of age between 51and 55 is [ 9181.92173728983 , 9597.48076271017 ]\n",
      "99% CI for people of age 55 and more is [ 9187.491787258126 , 9599.269212741872 ]\n",
      "for size 10000\n",
      "99% CI  for teenage people is [ 8808.74446962239 , 9072.17993037761 ]\n",
      "99% CI for people of age between 18 and 25 is [ 9088.440302223607 , 9350.269897776394 ]\n",
      "99% CI for people of age between 26 and 35 is [ 9098.792661844072 , 9355.254338155926 ]\n",
      "99% CI for people of age between 36 and 45 is [ 9311.053865290987 , 9570.106134709013 ]\n",
      "99% CI for people of age between 46 and 50 is [ 9109.001214302301 , 9366.639985697697 ]\n",
      "99% CI for people of age between 51and 55 is [ 9458.522329962585 , 9722.224070037415 ]\n",
      "99% CI for people of age 55 and more is [ 9243.42250437069 , 9502.46849562931 ]\n"
     ]
    }
   ],
   "source": [
    "# 99% CI for different Sample Sizes\n",
    "for n in [4,40,400,4000,10000]:\n",
    "    print(\"for size\", n)\n",
    "    samp1 = df_age0_17.sample(n)\n",
    "    m=samp1.mean()\n",
    "    s = samp1.std()\n",
    "    se = s / np.sqrt(n)\n",
    "    z_left = norm.ppf(0.005)\n",
    "    z_right = norm.ppf(0.995)\n",
    "    x1 = m + (z_left*se)\n",
    "    x2 = m + (z_right*se)\n",
    "    print(\"99% CI  for teenage people is [\", x1,\",\",x2,\"]\")\n",
    "    \n",
    "    samp2 = df_age18_25.sample(n)\n",
    "    m=samp2.mean()\n",
    "    s = samp2.std()\n",
    "    se = s / np.sqrt(n)\n",
    "    z_left = norm.ppf(0.005)\n",
    "    z_right = norm.ppf(0.995)\n",
    "    x1 = m + (z_left*se)\n",
    "    x2 = m + (z_right*se)\n",
    "    print(\"99% CI for people of age between 18 and 25 is [\", x1,\",\",x2,\"]\")\n",
    "    \n",
    "    samp3 = df_age26_35.sample(n)\n",
    "    m=samp3.mean()\n",
    "    s = samp3.std()\n",
    "    se = s / np.sqrt(n)\n",
    "    z_left = norm.ppf(0.005)\n",
    "    z_right = norm.ppf(0.995)\n",
    "    x1 = m + (z_left*se)\n",
    "    x2 = m + (z_right*se)\n",
    "    print(\"99% CI for people of age between 26 and 35 is [\", x1,\",\",x2,\"]\")\n",
    "\n",
    "    \n",
    "    samp4 = df_age36_45.sample(n)\n",
    "    m=samp4.mean()\n",
    "    s = samp4.std()\n",
    "    se = s / np.sqrt(n)\n",
    "    z_left = norm.ppf(0.005)\n",
    "    z_right = norm.ppf(0.995)\n",
    "    x1 = m + (z_left*se)\n",
    "    x2 = m + (z_right*se)\n",
    "    print(\"99% CI for people of age between 36 and 45 is [\", x1,\",\",x2,\"]\")\n",
    "    \n",
    "    samp5 = df_age46_50.sample(n)\n",
    "    m=samp5.mean()\n",
    "    s = samp5.std()\n",
    "    se = s / np.sqrt(n)\n",
    "    z_left = norm.ppf(0.005)\n",
    "    z_right = norm.ppf(0.995)\n",
    "    x1 = m + (z_left*se)\n",
    "    x2 = m + (z_right*se)\n",
    "    print(\"99% CI for people of age between 46 and 50 is [\", x1,\",\",x2,\"]\")\n",
    "\n",
    "    samp6 = df_age51_55.sample(n)\n",
    "    m=samp6.mean()\n",
    "    s = samp6.std()\n",
    "    se = s / np.sqrt(n)\n",
    "    z_left = norm.ppf(0.005)\n",
    "    z_right = norm.ppf(0.995)\n",
    "    x1 = m + (z_left*se)\n",
    "    x2 = m + (z_right*se)\n",
    "    print(\"99% CI for people of age between 51and 55 is [\", x1,\",\",x2,\"]\")\n",
    "\n",
    "    samp7 = df_age55.sample(n)\n",
    "    m=samp7.mean()\n",
    "    s = samp7.std()\n",
    "    se = s / np.sqrt(n)\n",
    "    z_left = norm.ppf(0.005)\n",
    "    z_right = norm.ppf(0.995)\n",
    "    x1 = m + (z_left*se)\n",
    "    x2 = m + (z_right*se)\n",
    "    print(\"99% CI for people of age 55 and more is [\", x1,\",\",x2,\"]\")\n",
    "\n",
    "\n"
   ]
  },
  {
   "cell_type": "code",
   "execution_count": 70,
   "metadata": {},
   "outputs": [
    {
     "name": "stdout",
     "output_type": "stream",
     "text": [
      "for size 4\n",
      "95% CI  for teenage people is [ 4142.680535972044 , 15154.319464027954 ]\n",
      "95% CI for people of age between 18 and 25 is [ 2487.1600549386076 , 20664.839945061387 ]\n",
      "95% CI for people of age between 26 and 35 is [ 2213.403495204895 , 18070.096504795103 ]\n",
      "95% CI for people of age between 36 and 45 is [ 8910.95293766517 , 19981.54706233483 ]\n",
      "95% CI for people of age between 46 and 50 is [ 3080.236034646684 , 15998.763965353315 ]\n",
      "95% CI for people of age between 51and 55 is [ 8358.633361678161 , 12449.866638321837 ]\n",
      "95% CI for people of age 55 and more is [ 71.96572044711684 , 16745.03427955288 ]\n",
      "for size 40\n",
      "95% CI  for teenage people is [ 7848.4443156175785 , 10700.555684382422 ]\n",
      "95% CI for people of age between 18 and 25 is [ 7655.843697282631 , 10613.656302717369 ]\n",
      "95% CI for people of age between 26 and 35 is [ 8041.924709059176 , 11251.125290940823 ]\n",
      "95% CI for people of age between 36 and 45 is [ 8871.914632004013 , 11415.935367995986 ]\n",
      "95% CI for people of age between 46 and 50 is [ 7305.610047695185 , 10050.989952304813 ]\n",
      "95% CI for people of age between 51and 55 is [ 7853.276334483505 , 10783.523665516494 ]\n",
      "95% CI for people of age 55 and more is [ 7178.78942573228 , 9633.760574267719 ]\n",
      "for size 400\n",
      "95% CI  for teenage people is [ 8784.017795834388 , 9761.507204165613 ]\n",
      "95% CI for people of age between 18 and 25 is [ 9134.32413080643 , 10126.505869193572 ]\n",
      "95% CI for people of age between 26 and 35 is [ 8639.617820649806 , 9663.157179350195 ]\n",
      "95% CI for people of age between 36 and 45 is [ 9046.50341656911 , 10016.51658343089 ]\n",
      "95% CI for people of age between 46 and 50 is [ 9014.162955999489 , 9970.237044000512 ]\n",
      "95% CI for people of age between 51and 55 is [ 9078.721779124216 , 10046.658220875785 ]\n",
      "95% CI for people of age 55 and more is [ 8948.124401161103 , 9962.065598838895 ]\n",
      "for size 4000\n",
      "95% CI  for teenage people is [ 8770.09120896656 , 9089.28079103344 ]\n",
      "95% CI for people of age between 18 and 25 is [ 9057.715085600625 , 9369.731914399375 ]\n",
      "95% CI for people of age between 26 and 35 is [ 9032.259559815226 , 9339.923940184774 ]\n",
      "95% CI for people of age between 36 and 45 is [ 9153.29955278674 , 9465.35044721326 ]\n",
      "95% CI for people of age between 46 and 50 is [ 8890.435799666238 , 9191.20020033376 ]\n",
      "95% CI for people of age between 51and 55 is [ 9305.15210067683 , 9623.628899323168 ]\n",
      "95% CI for people of age 55 and more is [ 9240.221243835515 , 9549.620756164486 ]\n",
      "for size 10000\n",
      "95% CI  for teenage people is [ 8812.47565676837 , 9013.146943231628 ]\n",
      "95% CI for people of age between 18 and 25 is [ 9122.330452477394 , 9322.392547522608 ]\n",
      "95% CI for people of age between 26 and 35 is [ 9193.522630877713 , 9388.496369122287 ]\n",
      "95% CI for people of age between 36 and 45 is [ 9172.234851669715 , 9367.170148330284 ]\n",
      "95% CI for people of age between 46 and 50 is [ 9136.00519282125 , 9330.245607178751 ]\n",
      "95% CI for people of age between 51and 55 is [ 9431.752475981173 , 9631.950724018827 ]\n",
      "95% CI for people of age 55 and more is [ 9301.649115504702 , 9497.454284495298 ]\n"
     ]
    }
   ],
   "source": [
    "# 95% CI for different Sample Sizes\n",
    "for n in [4,40,400,4000,10000]:\n",
    "    print(\"for size\", n)\n",
    "    samp1 = df_age0_17.sample(n)\n",
    "    m=samp1.mean()\n",
    "    s = samp1.std()\n",
    "    se = s / np.sqrt(n)\n",
    "    z_left = norm.ppf(0.025)\n",
    "    z_right = norm.ppf(0.975)\n",
    "    x1 = m + (z_left*se)\n",
    "    x2 = m + (z_right*se)\n",
    "    print(\"95% CI  for teenage people is [\", x1,\",\",x2,\"]\")\n",
    "    \n",
    "    samp2 = df_age18_25.sample(n)\n",
    "    m=samp2.mean()\n",
    "    s = samp2.std()\n",
    "    se = s / np.sqrt(n)\n",
    "    z_left = norm.ppf(0.025)\n",
    "    z_right = norm.ppf(0.975)\n",
    "    x1 = m + (z_left*se)\n",
    "    x2 = m + (z_right*se)\n",
    "    print(\"95% CI for people of age between 18 and 25 is [\", x1,\",\",x2,\"]\")\n",
    "    \n",
    "    samp3 = df_age26_35.sample(n)\n",
    "    m=samp3.mean()\n",
    "    s = samp3.std()\n",
    "    se = s / np.sqrt(n)\n",
    "    z_left = norm.ppf(0.025)\n",
    "    z_right = norm.ppf(0.975)\n",
    "    x1 = m + (z_left*se)\n",
    "    x2 = m + (z_right*se)\n",
    "    print(\"95% CI for people of age between 26 and 35 is [\", x1,\",\",x2,\"]\")\n",
    "\n",
    "    \n",
    "    samp4 = df_age36_45.sample(n)\n",
    "    m=samp4.mean()\n",
    "    s = samp4.std()\n",
    "    se = s / np.sqrt(n)\n",
    "    z_left = norm.ppf(0.025)\n",
    "    z_right = norm.ppf(0.975)\n",
    "    x1 = m + (z_left*se)\n",
    "    x2 = m + (z_right*se)\n",
    "    print(\"95% CI for people of age between 36 and 45 is [\", x1,\",\",x2,\"]\")\n",
    "    \n",
    "    samp5 = df_age46_50.sample(n)\n",
    "    m=samp5.mean()\n",
    "    s = samp5.std()\n",
    "    se = s / np.sqrt(n)\n",
    "    z_left = norm.ppf(0.025)\n",
    "    z_right = norm.ppf(0.975)\n",
    "    x1 = m + (z_left*se)\n",
    "    x2 = m + (z_right*se)\n",
    "    print(\"95% CI for people of age between 46 and 50 is [\", x1,\",\",x2,\"]\")\n",
    "\n",
    "    samp6 = df_age51_55.sample(n)\n",
    "    m=samp6.mean()\n",
    "    s = samp6.std()\n",
    "    se = s / np.sqrt(n)\n",
    "    z_left = norm.ppf(0.025)\n",
    "    z_right = norm.ppf(0.975)\n",
    "    x1 = m + (z_left*se)\n",
    "    x2 = m + (z_right*se)\n",
    "    print(\"95% CI for people of age between 51and 55 is [\", x1,\",\",x2,\"]\")\n",
    "\n",
    "    samp7 = df_age55.sample(n)\n",
    "    m=samp7.mean()\n",
    "    s = samp7.std()\n",
    "    se = s / np.sqrt(n)\n",
    "    z_left = norm.ppf(0.025)\n",
    "    z_right = norm.ppf(0.975)\n",
    "    x1 = m + (z_left*se)\n",
    "    x2 = m + (z_right*se)\n",
    "    print(\"95% CI for people of age 55 and more is [\", x1,\",\",x2,\"]\")\n"
   ]
  },
  {
   "cell_type": "code",
   "execution_count": 71,
   "metadata": {},
   "outputs": [
    {
     "name": "stdout",
     "output_type": "stream",
     "text": [
      "for size 4\n",
      "90% CI  for teenage people is [ 7441.763609073322 , 16152.236390926675 ]\n",
      "90% CI for people of age between 18 and 25 is [ 6925.539819549938 , 12510.96018045006 ]\n",
      "90% CI for people of age between 26 and 35 is [ 4602.918423962979 , 8825.08157603702 ]\n",
      "90% CI for people of age between 36 and 45 is [ 3372.1763429031857 , 9042.323657096813 ]\n",
      "90% CI for people of age between 46 and 50 is [ 4943.256996281259 , 18831.243003718737 ]\n",
      "90% CI for people of age between 51and 55 is [ 6184.522556240904 , 10042.477443759095 ]\n",
      "90% CI for people of age 55 and more is [ 6026.736084601887 , 13480.76391539811 ]\n",
      "for size 40\n",
      "90% CI  for teenage people is [ 7903.288600035677 , 11304.211399964322 ]\n",
      "90% CI for people of age between 18 and 25 is [ 7324.20295449448 , 10036.697045505522 ]\n",
      "90% CI for people of age between 26 and 35 is [ 7522.671405478031 , 9840.328594521969 ]\n",
      "90% CI for people of age between 36 and 45 is [ 7699.707658969132 , 10373.842341030866 ]\n",
      "90% CI for people of age between 46 and 50 is [ 8554.655861074365 , 10667.894138925634 ]\n",
      "90% CI for people of age between 51and 55 is [ 8714.80635826776 , 11196.543641732238 ]\n",
      "90% CI for people of age 55 and more is [ 7613.674803313213 , 10237.525196686787 ]\n",
      "for size 400\n",
      "90% CI  for teenage people is [ 8888.176496857297 , 9777.023503142704 ]\n",
      "90% CI for people of age between 18 and 25 is [ 8396.670558829095 , 9222.174441170906 ]\n",
      "90% CI for people of age between 26 and 35 is [ 8521.597177092272 , 9347.762822907729 ]\n",
      "90% CI for people of age between 36 and 45 is [ 8965.053656115842 , 9808.746343884157 ]\n",
      "90% CI for people of age between 46 and 50 is [ 8784.48054367313 , 9575.45945632687 ]\n",
      "90% CI for people of age between 51and 55 is [ 9168.369320789732 , 10005.690679210269 ]\n",
      "90% CI for people of age 55 and more is [ 8889.30062813559 , 9701.35937186441 ]\n",
      "for size 4000\n",
      "90% CI  for teenage people is [ 8710.99217779163 , 8974.433322208371 ]\n",
      "90% CI for people of age between 18 and 25 is [ 9073.034575627951 , 9335.279424372047 ]\n",
      "90% CI for people of age between 26 and 35 is [ 9138.8909408407 , 9400.534559159301 ]\n",
      "90% CI for people of age between 36 and 45 is [ 9185.317408800174 , 9445.229091199826 ]\n",
      "90% CI for people of age between 46 and 50 is [ 9090.01349707274 , 9349.37850292726 ]\n",
      "90% CI for people of age between 51and 55 is [ 9388.352529623815 , 9652.533470376184 ]\n",
      "90% CI for people of age 55 and more is [ 9158.78504833186 , 9421.06545166814 ]\n",
      "for size 10000\n",
      "90% CI  for teenage people is [ 8829.659956161675 , 8996.484243838324 ]\n",
      "90% CI for people of age between 18 and 25 is [ 9082.026219468806 , 9247.407580531193 ]\n",
      "90% CI for people of age between 26 and 35 is [ 9212.079764689857 , 9378.175835310143 ]\n",
      "90% CI for people of age between 36 and 45 is [ 9197.580079422345 , 9364.691520577655 ]\n",
      "90% CI for people of age between 46 and 50 is [ 9123.733026898344 , 9286.480173101654 ]\n",
      "90% CI for people of age between 51and 55 is [ 9368.756542555348 , 9535.216857444651 ]\n",
      "90% CI for people of age 55 and more is [ 9271.24031882266 , 9435.883281177339 ]\n"
     ]
    }
   ],
   "source": [
    "# 90% CI for different Sample Sizes\n",
    "for n in [4,40,400,4000,10000]:\n",
    "    print(\"for size\", n)\n",
    "    samp1 = df_age0_17.sample(n)\n",
    "    m=samp1.mean()\n",
    "    s = samp1.std()\n",
    "    se = s / np.sqrt(n)\n",
    "    z_left = norm.ppf(0.05)\n",
    "    z_right = norm.ppf(0.95)\n",
    "    x1 = m + (z_left*se)\n",
    "    x2 = m + (z_right*se)\n",
    "    print(\"90% CI  for teenage people is [\", x1,\",\",x2,\"]\")\n",
    "    \n",
    "    samp2 = df_age18_25.sample(n)\n",
    "    m=samp2.mean()\n",
    "    s = samp2.std()\n",
    "    se = s / np.sqrt(n)\n",
    "    z_left = norm.ppf(0.05)\n",
    "    z_right = norm.ppf(0.95)\n",
    "    x1 = m + (z_left*se)\n",
    "    x2 = m + (z_right*se)\n",
    "    print(\"90% CI for people of age between 18 and 25 is [\", x1,\",\",x2,\"]\")\n",
    "    \n",
    "    samp3 = df_age26_35.sample(n)\n",
    "    m=samp3.mean()\n",
    "    s = samp3.std()\n",
    "    se = s / np.sqrt(n)\n",
    "    z_left = norm.ppf(0.05)\n",
    "    z_right = norm.ppf(0.95)\n",
    "    x1 = m + (z_left*se)\n",
    "    x2 = m + (z_right*se)\n",
    "    print(\"90% CI for people of age between 26 and 35 is [\", x1,\",\",x2,\"]\")\n",
    "\n",
    "    \n",
    "    samp4 = df_age36_45.sample(n)\n",
    "    m=samp4.mean()\n",
    "    s = samp4.std()\n",
    "    se = s / np.sqrt(n)\n",
    "    z_left = norm.ppf(0.05)\n",
    "    z_right = norm.ppf(0.95)\n",
    "    x1 = m + (z_left*se)\n",
    "    x2 = m + (z_right*se)\n",
    "    print(\"90% CI for people of age between 36 and 45 is [\", x1,\",\",x2,\"]\")\n",
    "    \n",
    "    samp5 = df_age46_50.sample(n)\n",
    "    m=samp5.mean()\n",
    "    s = samp5.std()\n",
    "    se = s / np.sqrt(n)\n",
    "    z_left = norm.ppf(0.05)\n",
    "    z_right = norm.ppf(0.95)\n",
    "    x1 = m + (z_left*se)\n",
    "    x2 = m + (z_right*se)\n",
    "    print(\"90% CI for people of age between 46 and 50 is [\", x1,\",\",x2,\"]\")\n",
    "\n",
    "    samp6 = df_age51_55.sample(n)\n",
    "    m=samp6.mean()\n",
    "    s = samp6.std()\n",
    "    se = s / np.sqrt(n)\n",
    "    z_left = norm.ppf(0.05)\n",
    "    z_right = norm.ppf(0.95)\n",
    "    x1 = m + (z_left*se)\n",
    "    x2 = m + (z_right*se)\n",
    "    print(\"90% CI for people of age between 51and 55 is [\", x1,\",\",x2,\"]\")\n",
    "\n",
    "    samp7 = df_age55.sample(n)\n",
    "    m=samp7.mean()\n",
    "    s = samp7.std()\n",
    "    se = s / np.sqrt(n)\n",
    "    z_left = norm.ppf(0.05)\n",
    "    z_right = norm.ppf(0.95)\n",
    "    x1 = m + (z_left*se)\n",
    "    x2 = m + (z_right*se)\n",
    "    print(\"90% CI for people of age 55 and more is [\", x1,\",\",x2,\"]\")\n"
   ]
  },
  {
   "cell_type": "markdown",
   "metadata": {},
   "source": [
    "##### Insights"
   ]
  },
  {
   "cell_type": "markdown",
   "metadata": {},
   "source": [
    "Spending by Age_group 0-17 is low compared to other age groups.\n",
    "Age group 51-55 Spends the most.\n"
   ]
  },
  {
   "cell_type": "markdown",
   "metadata": {},
   "source": [
    "With 99% Confidnce Interval we can say that age group 51-55 spends between [ 9458.522329962585 , 9722.224070037415 ]\n"
   ]
  },
  {
   "cell_type": "markdown",
   "metadata": {},
   "source": [
    "With 95% Confidnce Interval we can say that age group 51-55 spends between [ 9431.752475981173 , 9631.950724018827 ]\n"
   ]
  },
  {
   "cell_type": "markdown",
   "metadata": {},
   "source": [
    "With 90% Confidnce Interval we can say that age group 51-55 spends between [ 9368.756542555348 , 9535.216857444651 ]"
   ]
  },
  {
   "cell_type": "markdown",
   "metadata": {},
   "source": [
    "### Recommendations"
   ]
  },
  {
   "cell_type": "markdown",
   "metadata": {},
   "source": [
    "1. To increase sales between younger generation i.e age group 0-17,more advertisements on those products can be done.\n",
    "2. There can be more games to attract age group 0-17.\n",
    "3. Offers can be introduced on purchases above 12000 dollars to nudge customers to make more purchases.\n",
    "4. Ads or offers of high revenue generating Products  towards females customers to increase theiraverage spending amount.\n",
    "5. Most Selling Products can be stored in less noticeable places as it is less likely to affect their sales and less selling Products should be placed in more noticeable places.\n"
   ]
  },
  {
   "cell_type": "code",
   "execution_count": null,
   "metadata": {},
   "outputs": [],
   "source": []
  }
 ],
 "metadata": {
  "kernelspec": {
   "display_name": "Python 3 (ipykernel)",
   "language": "python",
   "name": "python3"
  },
  "language_info": {
   "codemirror_mode": {
    "name": "ipython",
    "version": 3
   },
   "file_extension": ".py",
   "mimetype": "text/x-python",
   "name": "python",
   "nbconvert_exporter": "python",
   "pygments_lexer": "ipython3",
   "version": "3.11.4"
  }
 },
 "nbformat": 4,
 "nbformat_minor": 4
}
